{
 "cells": [
  {
   "cell_type": "code",
   "execution_count": null,
   "metadata": {},
   "outputs": [],
   "source": [
    "import csv\n",
    "import numpy as np\n",
    "import scipy as sp\n",
    "import astropy as ap\n",
    "import matplotlib.pyplot as plt\n",
    "import pandas as pd\n",
    "from scipy import integrate \n",
    "from astropy.cosmology import WMAP9 #import relevant cosmology (find way to automate this for each dataset)\n",
    "import math"
   ]
  },
  {
   "cell_type": "code",
   "execution_count": null,
   "metadata": {},
   "outputs": [],
   "source": [
    "#Define useful parameters\n",
    "\n",
    "no_of_bins = 100\n",
    "survey_area = 4"
   ]
  },
  {
   "cell_type": "code",
   "execution_count": null,
   "metadata": {},
   "outputs": [],
   "source": [
    "#Read in dataset\n",
    "\n",
    "data_0 = pd.read_csv(\"tao_aponte_01_catalogue_3963.csv\")\n",
    "data_0\n",
    "data_0[('Redshift_Observed')]"
   ]
  },
  {
   "cell_type": "code",
   "execution_count": null,
   "metadata": {},
   "outputs": [],
   "source": [
    "#Sort dataset by redshift by low to high\n",
    "\n",
    "data = data_0.sort_values('Redshift_Observed')\n",
    "data[('Redshift_Observed')]"
   ]
  },
  {
   "cell_type": "code",
   "execution_count": null,
   "metadata": {},
   "outputs": [],
   "source": [
    "#Check that surveyed area is square\n",
    "\n",
    "RA = data['Right_Ascension']\n",
    "DEC = data['Declination']\n",
    "plt.scatter(RA, DEC)"
   ]
  },
  {
   "cell_type": "code",
   "execution_count": null,
   "metadata": {},
   "outputs": [],
   "source": [
    "#Estimate supernova rate per stellar mass using arbitrary parameters for now (added the multiplcation for the units - 10^10  solar mass)\n",
    "\n",
    "try:\n",
    "    supernovae_rate_per_stellar_mass = ((((1/100)))*((data['Total_Stellar_Mass'])))*(10**10)/(10**10.5)\n",
    "except:\n",
    "    supernovae_rate_per_stellar_mass = ((((1/100)))*((data['total_stellar_mass'])))*(10**10)/(10**10.5)\n",
    "    \n",
    "#supernovae_rate_per_stellar_mass"
   ]
  },
  {
   "cell_type": "code",
   "execution_count": null,
   "metadata": {},
   "outputs": [],
   "source": [
    "#Estimate supernova rate per star formation rate using arbitrary parameters for now\n",
    "\n",
    "try:\n",
    "    supernovae_rate_per_star_formation_rate = ((1/100))*(data['Total_Star_Formation_Rate'])\n",
    "except:\n",
    "    supernovae_rate_per_star_formation_rate = ((1/100))*(data['total_star_formation_rate'])\n",
    "    \n",
    "#supernovae_rate_per_star_formation_rate"
   ]
  },
  {
   "cell_type": "code",
   "execution_count": null,
   "metadata": {},
   "outputs": [],
   "source": [
    "#Estimate TDE rate using arbitrary parameters for now\n",
    "\n",
    "blackholemass = np.array(data['Black_Hole_Mass'])*10**10\n",
    "bh = np.zeros_like(blackholemass)\n",
    "\n",
    "bh[((blackholemass >= 10**6)&(blackholemass <= 10**7))] = 1  \n",
    "        \n",
    "try:\n",
    "    blackhole_rate_per_TDE_rate = ((1/10000))*(bh)\n",
    "except:\n",
    "    blackhole_rate_per_TDE_rate = ((1/10000))*(bh)\n",
    "    \n",
    "number_of_bh = len(bh[((blackholemass >= 10**6)&(blackholemass <= 10**7))])"
   ]
  },
  {
   "cell_type": "code",
   "execution_count": null,
   "metadata": {},
   "outputs": [],
   "source": [
    "#Insert rates into tables\n",
    "\n",
    "data.insert(loc=8,\n",
    "          column='supernovae_rate_per_stellar_mass',\n",
    "          value=supernovae_rate_per_stellar_mass)        \n",
    "\n",
    "data.insert(loc=9,\n",
    "          column='supernovae_rate_per_star_formation_rate',\n",
    "          value=supernovae_rate_per_star_formation_rate)   \n",
    "\n",
    "data.insert(loc=10,\n",
    "          column='blackhole_rate_per_TDE_rate',\n",
    "          value=blackhole_rate_per_TDE_rate)   \n",
    "\n",
    "#data"
   ]
  },
  {
   "cell_type": "code",
   "execution_count": null,
   "metadata": {},
   "outputs": [],
   "source": [
    "#Some useful parameters regarding redshift\n",
    "\n",
    "try:\n",
    "    z = data['Redshift_Observed']\n",
    "except:\n",
    "    z = data['redshift_observed']\n",
    "    \n",
    "bins_z = np.linspace(np.min(z), np.max(z), no_of_bins)\n",
    "binsize = (np.max(z) - np.min(z))/no_of_bins\n",
    "digitized_z = np.digitize(z, bins_z) #creates mask for each bin\n",
    "bin_means_z = [z[digitized_z == i].mean() for i in range(0, len(bins_z))]\n",
    "#print(bins_z)\n",
    "#print(np.shape(bins_z))"
   ]
  },
  {
   "cell_type": "code",
   "execution_count": null,
   "metadata": {},
   "outputs": [],
   "source": [
    "#Calculate Comoving Volume\n",
    "\n",
    "comoving_volume = WMAP9.comoving_volume(bins_z)  #Give Volume in Mpc^3\n",
    "comoving_volume_unbinned = WMAP9.comoving_volume(z)\n",
    "#print(comoving_volume)\n",
    "\n",
    "plt.figure(figsize=(10, 10), dpi=80)\n",
    "plt.scatter(bins_z, comoving_volume)\n",
    "plt.xlabel('z')\n",
    "plt.ylabel('Comoving volume [Mpc^3]')"
   ]
  },
  {
   "cell_type": "code",
   "execution_count": null,
   "metadata": {},
   "outputs": [],
   "source": [
    "#TDE rates\n",
    "\n",
    "tde = data['blackhole_rate_per_TDE_rate']\n",
    "bin_sum_tde = [tde[digitized_z == i].sum() for i in range(0, len(bins_z))]\n",
    "bin_sum_tde_per_square_degree = np.array(bin_sum_tde)/survey_area\n",
    "bin_sum_tde_all_sky = bin_sum_tde_per_square_degree*41253\n",
    "bin_sum_tde_all_sky_cum = np.cumsum(bin_sum_tde_all_sky)\n",
    "bin_sum_tde_per_vol = bin_sum_tde_all_sky/comoving_volume\n",
    "bin_sum_tde_per_vol_cum = np.cumsum(bin_sum_tde_per_vol)"
   ]
  },
  {
   "cell_type": "code",
   "execution_count": null,
   "metadata": {},
   "outputs": [],
   "source": [
    "#TDE rate per square degree\n",
    "\n",
    "plt.figure(figsize=(10, 10), dpi=80)\n",
    "plt.scatter(bin_means_z, np.array(bin_sum_tde_per_square_degree))\n",
    "plt.xlabel('Redshift')\n",
    "plt.ylabel('TDE rate [deg^-2]')\n",
    "plt.title('TDE rate vs redshift')\n",
    "\n",
    "plt.show()"
   ]
  },
  {
   "cell_type": "code",
   "execution_count": null,
   "metadata": {},
   "outputs": [],
   "source": [
    "#TDE rate all sky\n",
    "\n",
    "plt.figure(figsize=(10, 10), dpi=80)\n",
    "plt.scatter(bin_means_z, np.array(bin_sum_tde_all_sky))\n",
    "plt.xlabel('Redshift')\n",
    "plt.ylabel('TDE rate')\n",
    "plt.title('TDE rate vs redshift')\n",
    "\n",
    "plt.show()"
   ]
  },
  {
   "cell_type": "code",
   "execution_count": null,
   "metadata": {},
   "outputs": [],
   "source": [
    "#TDE rate all sky cumulatove\n",
    "\n",
    "plt.figure(figsize=(10, 10), dpi=80)\n",
    "plt.scatter(bin_means_z, np.array(bin_sum_tde_all_sky_cum))\n",
    "plt.xlabel('Redshift')\n",
    "plt.ylabel('Cumulative TDE rate')\n",
    "plt.title('Cumulative TDE rate vs redshift')\n",
    "\n",
    "plt.show()"
   ]
  },
  {
   "cell_type": "code",
   "execution_count": null,
   "metadata": {},
   "outputs": [],
   "source": [
    "#TDE rate per Mpc^3\n",
    "\n",
    "plt.figure(figsize=(10, 10), dpi=80)\n",
    "plt.scatter(bin_means_z, np.array(bin_sum_tde_per_vol))\n",
    "plt.xlabel('Redshift')\n",
    "plt.ylabel('TDE rate [deg^-2]')\n",
    "plt.title('TDE rate vs redshift')\n",
    "\n",
    "plt.show()"
   ]
  },
  {
   "cell_type": "code",
   "execution_count": null,
   "metadata": {},
   "outputs": [],
   "source": [
    "#TDE rate per Mpc^3 in LOG\n",
    "\n",
    "bin_sum_tde_per_vol_cum_log = bin_sum_tde_per_vol_cum.value\n",
    "plt.figure(figsize=(10, 10), dpi=80)\n",
    "plt.scatter(bin_means_z, np.log(bin_sum_tde_per_vol_cum_log))\n",
    "plt.xlabel('Redshift')\n",
    "plt.ylabel('LOG TDE rate [Mpc-3]')\n",
    "plt.title('LOG TDE rate vs redshift')\n",
    "\n",
    "plt.show()"
   ]
  },
  {
   "cell_type": "code",
   "execution_count": null,
   "metadata": {},
   "outputs": [],
   "source": [
    "#TDE rate per Mpc^3 cumulative\n",
    "\n",
    "plt.figure(figsize=(10, 10), dpi=80)\n",
    "plt.scatter(bin_means_z, np.array(bin_sum_tde_per_vol_cum))\n",
    "plt.xlabel('Redshift')\n",
    "plt.ylabel('Cumulative TDE rate [deg^-2]')\n",
    "plt.title('Cumulative TDE rate vs redshift')\n",
    "\n",
    "plt.show()"
   ]
  },
  {
   "cell_type": "code",
   "execution_count": null,
   "metadata": {},
   "outputs": [],
   "source": [
    "#TDE rate per Mpc^3 cumulative as a LOG graph\n",
    "\n",
    "#bin_sum_tde_per_vol_cum_log = [math.log(x) for x in bin_sum_tde_per_vol_cum.value]\n",
    "#bin_means_z_log = [math.log(x) for x in bin_means_z]\n",
    "bin_sum_tde_per_vol_cum_log = bin_sum_tde_per_vol_cum.value\n",
    "plt.figure(figsize=(10, 10), dpi=80)\n",
    "plt.scatter(bin_means_z, np.log(bin_sum_tde_per_vol_cum_log))\n",
    "plt.xlabel('Redshift')\n",
    "plt.ylabel('LOG Cumulative TDE rate [deg^-2]')\n",
    "plt.title('LOG Cumulative TDE rate vs LOG redshift')\n",
    "\n",
    "plt.show()"
   ]
  },
  {
   "cell_type": "code",
   "execution_count": null,
   "metadata": {},
   "outputs": [],
   "source": [
    "#Supernova rates per stellar mass\n",
    "\n",
    "sm = data['supernovae_rate_per_stellar_mass']\n",
    "bin_sum_sm = [sm[digitized_z == i].sum() for i in range(0, len(bins_z))]\n",
    "bin_sum_sm_per_square_degree = np.array(bin_sum_sm)/survey_area\n",
    "bin_sum_sm_all_sky = bin_sum_sm_per_square_degree*41253\n",
    "bin_sum_sm_all_sky_cum = np.cumsum(bin_sum_sm_all_sky)\n",
    "bin_sum_sm_per_vol = bin_sum_sm_all_sky/comoving_volume\n",
    "bin_sum_sm_per_vol_cum = np.cumsum(bin_sum_sm_per_vol)"
   ]
  },
  {
   "cell_type": "code",
   "execution_count": null,
   "metadata": {},
   "outputs": [],
   "source": [
    "#Supernova rate per stellar mass per square degree\n",
    "\n",
    "plt.figure(figsize=(10, 10), dpi=80)\n",
    "plt.scatter(bin_means_z, np.array(bin_sum_sm_per_square_degree))\n",
    "plt.xlabel('Redshift')\n",
    "plt.ylabel('Supernova rate [kg^-1 deg^-2]')\n",
    "plt.title('Supernova rate per stellar mass vs redshift')\n",
    "\n",
    "plt.show()"
   ]
  },
  {
   "cell_type": "code",
   "execution_count": null,
   "metadata": {},
   "outputs": [],
   "source": [
    "#Supernova rate per stellar mass all sky\n",
    "\n",
    "plt.figure(figsize=(10, 10), dpi=80)\n",
    "plt.scatter(bin_means_z, np.array(bin_sum_sm_all_sky))\n",
    "plt.xlabel('Redshift')\n",
    "plt.ylabel('Supernova rate [kg^-1]')\n",
    "plt.title('Supernova rate per stellar mass vs redshift')\n",
    "\n",
    "plt.show()"
   ]
  },
  {
   "cell_type": "code",
   "execution_count": null,
   "metadata": {},
   "outputs": [],
   "source": [
    "#Supernova rate per stellar mass all sky\n",
    "\n",
    "plt.figure(figsize=(10, 10), dpi=80)\n",
    "plt.scatter(bin_means_z, np.array(bin_sum_sm_all_sky_cum))\n",
    "plt.xlabel('Redshift')\n",
    "plt.ylabel('Cumulative Supernova rate [kg^-1]')\n",
    "plt.title('Cumulative Supernova rate per stellar mass vs redshift')\n",
    "\n",
    "plt.show()"
   ]
  },
  {
   "cell_type": "code",
   "execution_count": null,
   "metadata": {},
   "outputs": [],
   "source": [
    "#Supernova rate per stellar mass per Mpc^3\n",
    "\n",
    "plt.figure(figsize=(10, 10), dpi=80)\n",
    "plt.scatter(bin_means_z, np.array(bin_sum_sm_per_vol))\n",
    "plt.xlabel('Redshift')\n",
    "plt.ylabel('Supernova rate [kg^-1 Mpc^-3]')\n",
    "plt.title('Supernova rate per stellar mass vs redshift')\n",
    "\n",
    "plt.show()"
   ]
  },
  {
   "cell_type": "code",
   "execution_count": null,
   "metadata": {},
   "outputs": [],
   "source": [
    "#Supernova rate per stellar mass per Mpc^3\n",
    "\n",
    "plt.figure(figsize=(10, 10), dpi=80)\n",
    "plt.scatter(bin_means_z, np.array(bin_sum_sm_per_vol_cum))\n",
    "plt.xlabel('Redshift')\n",
    "plt.ylabel('Cumulative Supernova rate [kg^-1 Mpc^-3]')\n",
    "plt.title('Cumulative Supernova rate per stellar mass vs redshift')\n",
    "\n",
    "plt.show()"
   ]
  },
  {
   "cell_type": "code",
   "execution_count": null,
   "metadata": {},
   "outputs": [],
   "source": [
    "#Supernova rates per star formation rate\n",
    "\n",
    "sfr = data['supernovae_rate_per_star_formation_rate']\n",
    "bin_sum_sfr = [sfr[digitized_z == i].sum() for i in range(0, len(bins_z))]\n",
    "bin_sum_sfr_per_square_degree = np.array(bin_sum_sfr)/survey_area\n",
    "bin_sum_sfr_all_sky = bin_sum_sfr_per_square_degree*41253\n",
    "bin_sum_sfr_all_sky_cum = np.cumsum(bin_sum_sfr_all_sky)\n",
    "bin_sum_sfr_per_vol = bin_sum_sfr_all_sky/comoving_volume\n",
    "bin_sum_sfr_per_vol_cum = np.cumsum(bin_sum_sfr_per_vol)"
   ]
  },
  {
   "cell_type": "code",
   "execution_count": null,
   "metadata": {},
   "outputs": [],
   "source": [
    "#Supernova rates per star formation rate per square degree\n",
    "\n",
    "plt.figure(figsize=(10, 10), dpi=80)\n",
    "plt.scatter(bin_means_z, np.array(bin_sum_sfr_per_square_degree))\n",
    "plt.xlabel('Redshift')\n",
    "plt.ylabel('Supernova rate [deg^-2]')\n",
    "plt.title('Supernova rate per star formation rate vs redshift')\n",
    "\n",
    "plt.show()"
   ]
  },
  {
   "cell_type": "code",
   "execution_count": null,
   "metadata": {},
   "outputs": [],
   "source": [
    "#Supernova rates per star formation rate all sky\n",
    "\n",
    "plt.figure(figsize=(10, 10), dpi=80)\n",
    "plt.scatter(bin_means_z, np.array(bin_sum_sfr_all_sky))\n",
    "plt.xlabel('Redshift')\n",
    "plt.ylabel('Supernova rate')\n",
    "plt.title('Supernova rate per star formation rate vs redshift')\n",
    "\n",
    "plt.show()"
   ]
  },
  {
   "cell_type": "code",
   "execution_count": null,
   "metadata": {},
   "outputs": [],
   "source": [
    "#Supernova rates per star formation rate all sky\n",
    "\n",
    "plt.figure(figsize=(10, 10), dpi=80)\n",
    "plt.scatter(bin_means_z, np.array(bin_sum_sfr_all_sky_cum))\n",
    "plt.xlabel('Redshift')\n",
    "plt.ylabel('Cumulative Supernova rate')\n",
    "plt.title('Cumulative Supernova rate per star formation rate vs redshift')\n",
    "\n",
    "plt.show()"
   ]
  },
  {
   "cell_type": "code",
   "execution_count": null,
   "metadata": {},
   "outputs": [],
   "source": [
    "#Supernova rates per star formation rate per Mpc^3\n",
    "\n",
    "plt.figure(figsize=(10, 10), dpi=80)\n",
    "plt.scatter(bin_means_z, np.array(bin_sum_sfr_per_vol))\n",
    "plt.xlabel('Redshift')\n",
    "plt.ylabel('Supernova rate [Mpc^-3]')\n",
    "plt.title('Supernova rate per star formation rate vs redshift')\n",
    "\n",
    "plt.show()"
   ]
  },
  {
   "cell_type": "code",
   "execution_count": null,
   "metadata": {},
   "outputs": [],
   "source": [
    "#Supernova rates per star formation rate per Mpc^3\n",
    "\n",
    "plt.figure(figsize=(10, 10), dpi=80)\n",
    "plt.scatter(bin_means_z, np.array(bin_sum_sfr_per_vol_cum))\n",
    "plt.xlabel('Redshift')\n",
    "plt.ylabel('Cumulative Supernova rate [Mpc^-3]')\n",
    "plt.title('Cumulative Supernova rate per star formation rate vs redshift')\n",
    "\n",
    "plt.show()"
   ]
  },
  {
   "cell_type": "code",
   "execution_count": null,
   "metadata": {},
   "outputs": [],
   "source": [
    "#Graph Of SFR Rate Using New SFR Function\n",
    "#FROM PAPER 2\n",
    "\n",
    "alpha_sf = 0.05\n",
    "v_vir = data_0['Vvir']\n",
    "x_spin = data_0['X_Spin']\n",
    "y_spin = data_0['Y_Spin']\n",
    "z_spin = data_0['Z_Spin']\n",
    "lambda_xyz = (x_spin + y_spin + z_spin)/3\n",
    "R_vir = data_0['Rvir']\n",
    "m_cold = data_0['Cold_Gas_Mass']\n",
    "r_disk = (3/math.sqrt(2))*lambda_xyz*R_vir\n",
    "m_crit = ((3.8)*10**9)*(v_vir/200)*(r_disk/10)\n",
    "t_dyn_disk = r_disk/v_vir\n",
    "\n",
    "SFR = alpha_sf*((m_cold-m_crit)/t_dyn_disk)\n",
    "\n",
    "bin_sum_sfr_new = [SFR[digitized_z == i].sum() for i in range(0, len(bins_z))]"
   ]
  },
  {
   "cell_type": "code",
   "execution_count": null,
   "metadata": {},
   "outputs": [],
   "source": [
    "plt.figure(figsize=(10, 10), dpi=80)\n",
    "plt.scatter(bin_means_z, np.array(bin_sum_sfr_new))\n",
    "plt.xlabel('Redshift')\n",
    "plt.ylabel('Supernova rate [deg^-2]')\n",
    "plt.title('Supernova rate per star formation rate vs redshift')\n",
    "\n",
    "plt.show()"
   ]
  }
 ],
 "metadata": {
  "kernelspec": {
   "display_name": "Python 3 (ipykernel)",
   "language": "python",
   "name": "python3"
  },
  "language_info": {
   "codemirror_mode": {
    "name": "ipython",
    "version": 3
   },
   "file_extension": ".py",
   "mimetype": "text/x-python",
   "name": "python",
   "nbconvert_exporter": "python",
   "pygments_lexer": "ipython3",
   "version": "3.9.12"
  }
 },
 "nbformat": 4,
 "nbformat_minor": 4
}
