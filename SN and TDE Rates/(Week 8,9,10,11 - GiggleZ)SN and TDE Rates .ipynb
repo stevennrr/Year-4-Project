{
 "cells": [
  {
   "cell_type": "code",
   "execution_count": 1,
   "metadata": {},
   "outputs": [],
   "source": [
    "import csv\n",
    "import numpy as np\n",
    "import scipy as sp\n",
    "import astropy as ap\n",
    "import matplotlib.pyplot as plt\n",
    "import pandas as pd\n",
    "from scipy import integrate \n",
    "from astropy.cosmology import WMAP9 #import relevant cosmology (find way to automate this for each dataset)\n",
    "import math"
   ]
  },
  {
   "cell_type": "markdown",
   "metadata": {},
   "source": [
    "A definition of our bin size, survey area is provided. We then read our data file in from the TAO database.\n"
   ]
  },
  {
   "cell_type": "code",
   "execution_count": 2,
   "metadata": {},
   "outputs": [],
   "source": [
    "#Define useful parameters\n",
    "\n",
    "no_of_bins = 100\n",
    "survey_area = 4"
   ]
  },
  {
   "cell_type": "code",
   "execution_count": 3,
   "metadata": {},
   "outputs": [
    {
     "data": {
      "text/html": [
       "<div>\n",
       "<style scoped>\n",
       "    .dataframe tbody tr th:only-of-type {\n",
       "        vertical-align: middle;\n",
       "    }\n",
       "\n",
       "    .dataframe tbody tr th {\n",
       "        vertical-align: top;\n",
       "    }\n",
       "\n",
       "    .dataframe thead th {\n",
       "        text-align: right;\n",
       "    }\n",
       "</style>\n",
       "<table border=\"1\" class=\"dataframe\">\n",
       "  <thead>\n",
       "    <tr style=\"text-align: right;\">\n",
       "      <th></th>\n",
       "      <th>Total_Stellar_Mass</th>\n",
       "      <th>Black_Hole_Mass</th>\n",
       "      <th>Total_Star_Formation_Rate</th>\n",
       "      <th>Right_Ascension</th>\n",
       "      <th>Declination</th>\n",
       "      <th>Redshift_Cosmological</th>\n",
       "      <th>Redshift_Observed</th>\n",
       "      <th>Galaxy_ID</th>\n",
       "      <th>Keck_DEIMOS_DEEP_B_Absolute</th>\n",
       "      <th>Keck_DEIMOS_DEEP_B_Apparent</th>\n",
       "      <th>Keck_DEIMOS_DEEP_R_Absolute</th>\n",
       "      <th>Keck_DEIMOS_DEEP_R_Apparent</th>\n",
       "      <th>Keck_DEIMOS_DEEP_I_Absolute</th>\n",
       "      <th>Keck_DEIMOS_DEEP_I_Apparent</th>\n",
       "    </tr>\n",
       "  </thead>\n",
       "  <tbody>\n",
       "    <tr>\n",
       "      <th>0</th>\n",
       "      <td>0.062610</td>\n",
       "      <td>0.000000</td>\n",
       "      <td>1.013860</td>\n",
       "      <td>0.540567</td>\n",
       "      <td>0.224238</td>\n",
       "      <td>1.199150</td>\n",
       "      <td>1.201040</td>\n",
       "      <td>38000000035</td>\n",
       "      <td>-19.3541</td>\n",
       "      <td>25.2242</td>\n",
       "      <td>-19.4808</td>\n",
       "      <td>25.1879</td>\n",
       "      <td>-19.5417</td>\n",
       "      <td>24.9255</td>\n",
       "    </tr>\n",
       "    <tr>\n",
       "      <th>1</th>\n",
       "      <td>0.021203</td>\n",
       "      <td>0.000000</td>\n",
       "      <td>0.030357</td>\n",
       "      <td>0.563367</td>\n",
       "      <td>0.247718</td>\n",
       "      <td>1.199820</td>\n",
       "      <td>1.200610</td>\n",
       "      <td>38000000052</td>\n",
       "      <td>-16.9101</td>\n",
       "      <td>28.8456</td>\n",
       "      <td>-17.4722</td>\n",
       "      <td>28.3259</td>\n",
       "      <td>-17.6449</td>\n",
       "      <td>27.6998</td>\n",
       "    </tr>\n",
       "    <tr>\n",
       "      <th>2</th>\n",
       "      <td>0.051054</td>\n",
       "      <td>0.000000</td>\n",
       "      <td>1.040460</td>\n",
       "      <td>0.572493</td>\n",
       "      <td>0.202316</td>\n",
       "      <td>1.198880</td>\n",
       "      <td>1.202940</td>\n",
       "      <td>38000000021</td>\n",
       "      <td>-19.2345</td>\n",
       "      <td>24.9757</td>\n",
       "      <td>-19.2886</td>\n",
       "      <td>25.0967</td>\n",
       "      <td>-19.3246</td>\n",
       "      <td>24.9392</td>\n",
       "    </tr>\n",
       "    <tr>\n",
       "      <th>3</th>\n",
       "      <td>0.037392</td>\n",
       "      <td>0.000383</td>\n",
       "      <td>0.051424</td>\n",
       "      <td>0.562611</td>\n",
       "      <td>0.212076</td>\n",
       "      <td>1.199180</td>\n",
       "      <td>1.200710</td>\n",
       "      <td>38000000023</td>\n",
       "      <td>-17.9053</td>\n",
       "      <td>27.8177</td>\n",
       "      <td>-18.3021</td>\n",
       "      <td>27.3225</td>\n",
       "      <td>-18.4385</td>\n",
       "      <td>26.6920</td>\n",
       "    </tr>\n",
       "    <tr>\n",
       "      <th>4</th>\n",
       "      <td>0.010990</td>\n",
       "      <td>0.000000</td>\n",
       "      <td>0.721440</td>\n",
       "      <td>0.563864</td>\n",
       "      <td>0.212081</td>\n",
       "      <td>1.199320</td>\n",
       "      <td>1.201210</td>\n",
       "      <td>38000000025</td>\n",
       "      <td>-18.6319</td>\n",
       "      <td>25.3313</td>\n",
       "      <td>-18.4937</td>\n",
       "      <td>25.5468</td>\n",
       "      <td>-18.4560</td>\n",
       "      <td>25.4579</td>\n",
       "    </tr>\n",
       "    <tr>\n",
       "      <th>...</th>\n",
       "      <td>...</td>\n",
       "      <td>...</td>\n",
       "      <td>...</td>\n",
       "      <td>...</td>\n",
       "      <td>...</td>\n",
       "      <td>...</td>\n",
       "      <td>...</td>\n",
       "      <td>...</td>\n",
       "      <td>...</td>\n",
       "      <td>...</td>\n",
       "      <td>...</td>\n",
       "      <td>...</td>\n",
       "      <td>...</td>\n",
       "      <td>...</td>\n",
       "    </tr>\n",
       "    <tr>\n",
       "      <th>608369</th>\n",
       "      <td>0.043475</td>\n",
       "      <td>0.000000</td>\n",
       "      <td>0.207056</td>\n",
       "      <td>0.903149</td>\n",
       "      <td>0.914851</td>\n",
       "      <td>0.176479</td>\n",
       "      <td>0.176718</td>\n",
       "      <td>6014375000000000</td>\n",
       "      <td>-17.5973</td>\n",
       "      <td>22.2873</td>\n",
       "      <td>-17.8531</td>\n",
       "      <td>21.7115</td>\n",
       "      <td>-17.9666</td>\n",
       "      <td>21.5998</td>\n",
       "    </tr>\n",
       "    <tr>\n",
       "      <th>608370</th>\n",
       "      <td>0.010892</td>\n",
       "      <td>0.000191</td>\n",
       "      <td>0.000000</td>\n",
       "      <td>0.846410</td>\n",
       "      <td>0.720429</td>\n",
       "      <td>0.176205</td>\n",
       "      <td>0.176593</td>\n",
       "      <td>6008714000000000</td>\n",
       "      <td>-15.1575</td>\n",
       "      <td>25.0840</td>\n",
       "      <td>-15.8485</td>\n",
       "      <td>23.8257</td>\n",
       "      <td>-16.0045</td>\n",
       "      <td>23.5888</td>\n",
       "    </tr>\n",
       "    <tr>\n",
       "      <th>608371</th>\n",
       "      <td>0.316174</td>\n",
       "      <td>0.000045</td>\n",
       "      <td>0.712221</td>\n",
       "      <td>1.105390</td>\n",
       "      <td>0.900796</td>\n",
       "      <td>0.177264</td>\n",
       "      <td>0.177763</td>\n",
       "      <td>6004169000000000</td>\n",
       "      <td>-19.0035</td>\n",
       "      <td>20.9189</td>\n",
       "      <td>-19.4097</td>\n",
       "      <td>20.2189</td>\n",
       "      <td>-19.5905</td>\n",
       "      <td>20.0427</td>\n",
       "    </tr>\n",
       "    <tr>\n",
       "      <th>608372</th>\n",
       "      <td>4.954420</td>\n",
       "      <td>0.001883</td>\n",
       "      <td>6.673530</td>\n",
       "      <td>0.730432</td>\n",
       "      <td>0.617536</td>\n",
       "      <td>0.175793</td>\n",
       "      <td>0.175937</td>\n",
       "      <td>6001378000000000</td>\n",
       "      <td>-20.3558</td>\n",
       "      <td>19.8058</td>\n",
       "      <td>-21.2568</td>\n",
       "      <td>18.5094</td>\n",
       "      <td>-21.6863</td>\n",
       "      <td>18.1385</td>\n",
       "    </tr>\n",
       "    <tr>\n",
       "      <th>608373</th>\n",
       "      <td>0.024435</td>\n",
       "      <td>0.000000</td>\n",
       "      <td>0.126990</td>\n",
       "      <td>1.906330</td>\n",
       "      <td>1.397840</td>\n",
       "      <td>0.178503</td>\n",
       "      <td>0.179175</td>\n",
       "      <td>6014594000000000</td>\n",
       "      <td>-17.7846</td>\n",
       "      <td>22.2605</td>\n",
       "      <td>-18.0476</td>\n",
       "      <td>21.5370</td>\n",
       "      <td>-18.1320</td>\n",
       "      <td>21.4349</td>\n",
       "    </tr>\n",
       "  </tbody>\n",
       "</table>\n",
       "<p>608374 rows × 14 columns</p>\n",
       "</div>"
      ],
      "text/plain": [
       "        Total_Stellar_Mass  Black_Hole_Mass  Total_Star_Formation_Rate  \\\n",
       "0                 0.062610         0.000000                   1.013860   \n",
       "1                 0.021203         0.000000                   0.030357   \n",
       "2                 0.051054         0.000000                   1.040460   \n",
       "3                 0.037392         0.000383                   0.051424   \n",
       "4                 0.010990         0.000000                   0.721440   \n",
       "...                    ...              ...                        ...   \n",
       "608369            0.043475         0.000000                   0.207056   \n",
       "608370            0.010892         0.000191                   0.000000   \n",
       "608371            0.316174         0.000045                   0.712221   \n",
       "608372            4.954420         0.001883                   6.673530   \n",
       "608373            0.024435         0.000000                   0.126990   \n",
       "\n",
       "        Right_Ascension  Declination  Redshift_Cosmological  \\\n",
       "0              0.540567     0.224238               1.199150   \n",
       "1              0.563367     0.247718               1.199820   \n",
       "2              0.572493     0.202316               1.198880   \n",
       "3              0.562611     0.212076               1.199180   \n",
       "4              0.563864     0.212081               1.199320   \n",
       "...                 ...          ...                    ...   \n",
       "608369         0.903149     0.914851               0.176479   \n",
       "608370         0.846410     0.720429               0.176205   \n",
       "608371         1.105390     0.900796               0.177264   \n",
       "608372         0.730432     0.617536               0.175793   \n",
       "608373         1.906330     1.397840               0.178503   \n",
       "\n",
       "        Redshift_Observed         Galaxy_ID  Keck_DEIMOS_DEEP_B_Absolute  \\\n",
       "0                1.201040       38000000035                     -19.3541   \n",
       "1                1.200610       38000000052                     -16.9101   \n",
       "2                1.202940       38000000021                     -19.2345   \n",
       "3                1.200710       38000000023                     -17.9053   \n",
       "4                1.201210       38000000025                     -18.6319   \n",
       "...                   ...               ...                          ...   \n",
       "608369           0.176718  6014375000000000                     -17.5973   \n",
       "608370           0.176593  6008714000000000                     -15.1575   \n",
       "608371           0.177763  6004169000000000                     -19.0035   \n",
       "608372           0.175937  6001378000000000                     -20.3558   \n",
       "608373           0.179175  6014594000000000                     -17.7846   \n",
       "\n",
       "        Keck_DEIMOS_DEEP_B_Apparent  Keck_DEIMOS_DEEP_R_Absolute  \\\n",
       "0                           25.2242                     -19.4808   \n",
       "1                           28.8456                     -17.4722   \n",
       "2                           24.9757                     -19.2886   \n",
       "3                           27.8177                     -18.3021   \n",
       "4                           25.3313                     -18.4937   \n",
       "...                             ...                          ...   \n",
       "608369                      22.2873                     -17.8531   \n",
       "608370                      25.0840                     -15.8485   \n",
       "608371                      20.9189                     -19.4097   \n",
       "608372                      19.8058                     -21.2568   \n",
       "608373                      22.2605                     -18.0476   \n",
       "\n",
       "        Keck_DEIMOS_DEEP_R_Apparent  Keck_DEIMOS_DEEP_I_Absolute  \\\n",
       "0                           25.1879                     -19.5417   \n",
       "1                           28.3259                     -17.6449   \n",
       "2                           25.0967                     -19.3246   \n",
       "3                           27.3225                     -18.4385   \n",
       "4                           25.5468                     -18.4560   \n",
       "...                             ...                          ...   \n",
       "608369                      21.7115                     -17.9666   \n",
       "608370                      23.8257                     -16.0045   \n",
       "608371                      20.2189                     -19.5905   \n",
       "608372                      18.5094                     -21.6863   \n",
       "608373                      21.5370                     -18.1320   \n",
       "\n",
       "        Keck_DEIMOS_DEEP_I_Apparent  \n",
       "0                           24.9255  \n",
       "1                           27.6998  \n",
       "2                           24.9392  \n",
       "3                           26.6920  \n",
       "4                           25.4579  \n",
       "...                             ...  \n",
       "608369                      21.5998  \n",
       "608370                      23.5888  \n",
       "608371                      20.0427  \n",
       "608372                      18.1385  \n",
       "608373                      21.4349  \n",
       "\n",
       "[608374 rows x 14 columns]"
      ]
     },
     "execution_count": 3,
     "metadata": {},
     "output_type": "execute_result"
    }
   ],
   "source": [
    "#Read in dataset\n",
    "\n",
    "data_0 = pd.read_csv(\"tao.4045.0.csv\")\n",
    "data_0\n",
    "# data_0[('Redshift_Observed')]"
   ]
  },
  {
   "cell_type": "code",
   "execution_count": 4,
   "metadata": {},
   "outputs": [],
   "source": [
    "#Sort dataset by redshift by low to high\n",
    "\n",
    "data = data_0.sort_values('Redshift_Observed')\n",
    "# data[('Redshift_Observed')]"
   ]
  },
  {
   "cell_type": "code",
   "execution_count": 5,
   "metadata": {},
   "outputs": [],
   "source": [
    "#Check that surveyed area is square\n",
    "\n",
    "RA = data['Right_Ascension']\n",
    "DEC = data['Declination']\n",
    "# plt.scatter(RA, DEC)"
   ]
  },
  {
   "cell_type": "markdown",
   "metadata": {},
   "source": [
    "An estiamtion for the SN rate assuming const rate for stellar mass, SN rate assuming const rate per SFR, and TDE rate is provided in the following cells"
   ]
  },
  {
   "cell_type": "code",
   "execution_count": 6,
   "metadata": {},
   "outputs": [],
   "source": [
    "#Estimate supernova rate per stellar mass using arbitrary parameters for now (added the multiplcation for the units - 10^10  solar mass)\n",
    "\n",
    "try:\n",
    "    supernovae_rate_assuming_const_rate_per_stellar_mass = ((((1/100)))*((data['Total_Stellar_Mass'])))*(10**10)/(10**10.5)\n",
    "except:\n",
    "    supernovae_rate_assuming_const_rate_per_stellar_mass = ((((1/100)))*((data['total_stellar_mass'])))*(10**10)/(10**10.5)\n",
    "    \n",
    "#supernovae_rate_per_stellar_mass"
   ]
  },
  {
   "cell_type": "code",
   "execution_count": 7,
   "metadata": {},
   "outputs": [],
   "source": [
    "#Estimate supernova rate per star formation rate using arbitrary parameters for now\n",
    "\n",
    "try:\n",
    "    supernovae_rate_assuming_const_rate_per_star_formation_rate = ((1/100))*(data['Total_Star_Formation_Rate'])\n",
    "except:\n",
    "    supernovae_rate_assuming_const_rate_per_star_formation_rate = ((1/100))*(data['total_star_formation_rate'])\n",
    "    \n",
    "#supernovae_rate_per_star_formation_rate"
   ]
  },
  {
   "cell_type": "code",
   "execution_count": 8,
   "metadata": {},
   "outputs": [],
   "source": [
    "#Estimate TDE rate using arbitrary parameters for now\n",
    "\n",
    "blackholemass = np.array(data['Black_Hole_Mass'])*10**10\n",
    "bh = np.zeros_like(blackholemass)\n",
    "\n",
    "bh[((blackholemass >= 10**6)&(blackholemass <= 10**7))] = 1  \n",
    "        \n",
    "try:\n",
    "    TDE_rate = ((1/10000))*(bh)\n",
    "except:\n",
    "    TDE_rate = ((1/10000))*(bh)\n",
    "    \n",
    "number_of_bh = len(bh[((blackholemass >= 10**6)&(blackholemass <= 10**7))])"
   ]
  },
  {
   "cell_type": "markdown",
   "metadata": {},
   "source": [
    "We insert our new data bac into our original table"
   ]
  },
  {
   "cell_type": "code",
   "execution_count": 9,
   "metadata": {},
   "outputs": [],
   "source": [
    "#Insert rates into tables\n",
    "\n",
    "data.insert(loc=8,\n",
    "          column='supernovae_rate_assuming_const_rate_per_stellar_mass',\n",
    "          value=supernovae_rate_assuming_const_rate_per_stellar_mass)        \n",
    "\n",
    "data.insert(loc=9,\n",
    "          column='supernovae_rate_assuming_const_rate_per_star_formation_rate',\n",
    "          value=supernovae_rate_assuming_const_rate_per_star_formation_rate)   \n",
    "\n",
    "data.insert(loc=10,\n",
    "          column='TDE_rate',\n",
    "          value=TDE_rate)   \n",
    "\n",
    "#data"
   ]
  },
  {
   "cell_type": "markdown",
   "metadata": {},
   "source": [
    "In the following cell we define our bins and the calculation for the bin "
   ]
  },
  {
   "cell_type": "code",
   "execution_count": 10,
   "metadata": {},
   "outputs": [],
   "source": [
    "#Some useful parameters regarding redshift\n",
    "\n",
    "try:\n",
    "    z = data['Redshift_Observed']\n",
    "except:\n",
    "    z = data['redshift_observed']\n",
    "    \n",
    "bins_z = np.linspace(np.min(z), np.max(z), no_of_bins)\n",
    "binsize = (np.max(z) - np.min(z))/no_of_bins\n",
    "digitized_z = np.digitize(z, bins_z) #creates mask for each bin\n",
    "bin_means_z = [z[digitized_z == i].mean() for i in range(0, len(bins_z))]\n",
    "#print(bins_z)\n",
    "#print(np.shape(bins_z))"
   ]
  },
  {
   "cell_type": "markdown",
   "metadata": {},
   "source": [
    "We plot our co moving volume against redshift to double check that our calculation is correct - We are correct!"
   ]
  },
  {
   "cell_type": "code",
   "execution_count": 11,
   "metadata": {},
   "outputs": [
    {
     "data": {
      "text/plain": [
       "Text(0, 0.5, 'Comoving volume [Mpc^3]')"
      ]
     },
     "execution_count": 11,
     "metadata": {},
     "output_type": "execute_result"
    },
    {
     "data": {
      "image/png": "[encoded data removed]",
      "text/plain": [
       "<Figure size 800x800 with 1 Axes>"
      ]
     },
     "metadata": {
      "needs_background": "light"
     },
     "output_type": "display_data"
    }
   ],
   "source": [
    "#Calculate Comoving Volume\n",
    "\n",
    "comoving_volume = WMAP9.comoving_volume(bins_z)  #Give Volume in Mpc^3\n",
    "comoving_volume_unbinned = WMAP9.comoving_volume(z)\n",
    "#print(comoving_volume)\n",
    "plt.figure(figsize=(10, 10), dpi=80)\n",
    "plt.scatter(bins_z, comoving_volume)\n",
    "plt.xlabel('z')\n",
    "plt.ylabel('Comoving volume [Mpc^3]')"
   ]
  },
  {
   "cell_type": "markdown",
   "metadata": {},
   "source": [
    "A cell that has all the required TDE rates (in various units)"
   ]
  },
  {
   "cell_type": "code",
   "execution_count": 12,
   "metadata": {},
   "outputs": [],
   "source": [
    "#TDE rates\n",
    "\n",
    "tde = data['TDE_rate']\n",
    "bin_sum_tde = [tde[digitized_z == i].sum() for i in range(0, len(bins_z))]\n",
    "bin_sum_tde_per_square_degree = np.array(bin_sum_tde)/survey_area\n",
    "bin_sum_tde_all_sky = bin_sum_tde_per_square_degree*41253\n",
    "bin_sum_tde_all_sky_cum = np.cumsum(bin_sum_tde_all_sky)\n",
    "bin_sum_tde_per_vol = bin_sum_tde_all_sky/comoving_volume\n",
    "bin_sum_tde_per_vol_cum = np.cumsum(bin_sum_tde_per_vol)"
   ]
  },
  {
   "cell_type": "code",
   "execution_count": 13,
   "metadata": {},
   "outputs": [],
   "source": [
    "#TDE rate per square degree\n",
    "\n",
    "# plt.figure(figsize=(10, 10), dpi=80)\n",
    "# plt.scatter(bin_means_z, np.array(bin_sum_tde_per_square_degree))\n",
    "# plt.xlabel('Redshift')\n",
    "# plt.ylabel('TDE rate [deg^-2]')\n",
    "# plt.title('TDE rate vs redshift')\n",
    "\n",
    "# plt.show()"
   ]
  },
  {
   "cell_type": "code",
   "execution_count": 14,
   "metadata": {},
   "outputs": [],
   "source": [
    "#TDE rate all sky\n",
    "\n",
    "# plt.figure(figsize=(10, 10), dpi=80)\n",
    "# plt.scatter(bin_means_z, np.array(bin_sum_tde_all_sky))\n",
    "# plt.xlabel('Redshift')\n",
    "# plt.ylabel('TDE rate [All Sky - 42153deg^2]')\n",
    "# plt.title('TDE rate vs redshift')\n",
    "\n",
    "# plt.show()"
   ]
  },
  {
   "cell_type": "code",
   "execution_count": 15,
   "metadata": {},
   "outputs": [],
   "source": [
    "#TDE rate all sky cumulutive\n",
    "\n",
    "# plt.figure(figsize=(10, 10), dpi=80)\n",
    "# plt.scatter(bin_means_z, np.array(bin_sum_tde_all_sky_cum))\n",
    "# plt.xlabel('Redshift')\n",
    "# plt.ylabel('Cumulative TDE rate [All Sky - 42153deg^2]')\n",
    "# plt.title('Cumulative TDE rate vs redshift')\n",
    "\n",
    "# plt.show()"
   ]
  },
  {
   "cell_type": "markdown",
   "metadata": {},
   "source": [
    "The visually important graph for TDE rates which are off by a factor of 10"
   ]
  },
  {
   "cell_type": "code",
   "execution_count": 16,
   "metadata": {},
   "outputs": [],
   "source": [
    "#TDE rate all sky cumulutive as a LOG graph\n",
    "\n",
    "# plt.figure(figsize=(10, 10), dpi=80)\n",
    "# plt.scatter(bin_means_z, np.log10(np.array(bin_sum_tde_all_sky_cum)))\n",
    "# plt.xlabel('Redshift')\n",
    "# plt.ylabel('LOG Cumulative TDE rate [All Sky - 42153deg^2]')\n",
    "# plt.title('LOG Cumulative TDE rate vs redshift')\n",
    "\n",
    "# #plt.show()"
   ]
  },
  {
   "cell_type": "code",
   "execution_count": 17,
   "metadata": {},
   "outputs": [],
   "source": [
    "#TDE rate per Mpc^3\n",
    "\n",
    "# plt.figure(figsize=(10, 10), dpi=80)\n",
    "# plt.scatter(bin_means_z, np.array(bin_sum_tde_per_vol))\n",
    "# plt.xlabel('Redshift')\n",
    "# plt.ylabel('TDE rate [Mpc-3]')\n",
    "# plt.title('TDE rate vs redshift')\n",
    "\n",
    "# plt.show()"
   ]
  },
  {
   "cell_type": "code",
   "execution_count": 18,
   "metadata": {},
   "outputs": [],
   "source": [
    "#TDE rate per Mpc^3 as a LOG graph\n",
    "\n",
    "# bin_sum_tde_per_vol_cum_log = bin_sum_tde_per_vol_cum.value\n",
    "# plt.figure(figsize=(10, 10), dpi=80)\n",
    "# plt.scatter(bin_means_z, np.log10(bin_sum_tde_per_vol.value))\n",
    "# plt.xlabel('Redshift')\n",
    "# plt.ylabel('LOG TDE rate [Mpc-3]')\n",
    "# plt.title('LOG TDE rate vs redshift')\n",
    "\n",
    "# plt.show()"
   ]
  },
  {
   "cell_type": "code",
   "execution_count": 19,
   "metadata": {},
   "outputs": [],
   "source": [
    "#TDE rate per Mpc^3 cumulative\n",
    "\n",
    "# plt.figure(figsize=(10, 10), dpi=80)\n",
    "# plt.scatter(bin_means_z, np.array(bin_sum_tde_per_vol_cum))\n",
    "# plt.xlabel('Redshift')\n",
    "# plt.ylabel('Cumulative TDE rate [Mpc-3]')\n",
    "# plt.title('Cumulative TDE rate vs redshift')\n",
    "\n",
    "# plt.show()"
   ]
  },
  {
   "cell_type": "markdown",
   "metadata": {},
   "source": [
    "AWLDladsjjlsadjlidsajlidas"
   ]
  },
  {
   "cell_type": "code",
   "execution_count": 20,
   "metadata": {},
   "outputs": [
    {
     "name": "stderr",
     "output_type": "stream",
     "text": [
      "C:\\Users\\steve\\AppData\\Local\\Temp\\ipykernel_19492\\3287471805.py:4: RuntimeWarning: divide by zero encountered in log10\n",
      "  plt.scatter(bin_means_z, np.log10(np.array(np.cumsum(bin_sum_tde_all_sky/2))))\n"
     ]
    },
    {
     "data": {
      "image/png": "[encoded data removed]",
      "text/plain": [
       "<Figure size 800x800 with 1 Axes>"
      ]
     },
     "metadata": {
      "needs_background": "light"
     },
     "output_type": "display_data"
    }
   ],
   "source": [
    "#Cumulative TDE rate all sky - 20,000deg^2 for LSST LOG\n",
    "\n",
    "plt.figure(figsize=(10, 10), dpi=80)\n",
    "plt.scatter(bin_means_z, np.log10(np.array(np.cumsum(bin_sum_tde_all_sky/2))))\n",
    "plt.xlabel('Redshift')\n",
    "plt.ylabel('TDE rate [All Sky - 42153deg^2]')\n",
    "plt.title('TDE rate vs redshift')\n",
    "\n",
    "plt.show()"
   ]
  },
  {
   "cell_type": "code",
   "execution_count": 21,
   "metadata": {},
   "outputs": [
    {
     "name": "stderr",
     "output_type": "stream",
     "text": [
      "C:\\Users\\steve\\AppData\\Local\\Temp\\ipykernel_19492\\3312074129.py:4: RuntimeWarning: divide by zero encountered in log\n",
      "  bin_sum_tde_per_vol_cum_log = [np.log(x) for x in bin_sum_tde_per_vol_cum.value]\n",
      "C:\\Users\\steve\\AppData\\Local\\Temp\\ipykernel_19492\\3312074129.py:6: RuntimeWarning: divide by zero encountered in log10\n",
      "  bin_sum_tde_per_vol_cum_log = np.log10(bin_sum_tde_per_vol_cum.value)\n"
     ]
    },
    {
     "data": {
      "image/png": "[encoded data removed]",
      "text/plain": [
       "<Figure size 800x800 with 1 Axes>"
      ]
     },
     "metadata": {
      "needs_background": "light"
     },
     "output_type": "display_data"
    }
   ],
   "source": [
    "#TDE rate per Mpc^3 cumulative as a LOG graph\n",
    "fontsize = 20\n",
    "#print(bin_sum_tde_per_vol_cum)\n",
    "bin_sum_tde_per_vol_cum_log = [np.log(x) for x in bin_sum_tde_per_vol_cum.value]\n",
    "bin_means_z_log = [np.log(x) for x in bin_means_z]\n",
    "bin_sum_tde_per_vol_cum_log = np.log10(bin_sum_tde_per_vol_cum.value)\n",
    "plt.figure(figsize=(10, 10), dpi=80)\n",
    "plt.scatter(bin_means_z, bin_sum_tde_per_vol_cum_log)\n",
    "plt.xlabel('Redshift', fontdict={'fontsize': fontsize})\n",
    "plt.ylabel('LOG Cumulative TDE rate Mpc$^{-3}$yr$^{-1}$]', fontdict={'fontsize': fontsize})\n",
    "plt.title('LOG Cumulative TDE rate vs redshift',fontdict={'fontsize': fontsize})\n",
    "\n",
    "plt.show()"
   ]
  },
  {
   "cell_type": "code",
   "execution_count": 22,
   "metadata": {},
   "outputs": [],
   "source": [
    "Luminosity = data['Keck_DEIMOS_DEEP_B_Absolute']\n",
    "# print(Luminosity)"
   ]
  },
  {
   "cell_type": "code",
   "execution_count": 23,
   "metadata": {},
   "outputs": [],
   "source": [
    "bin_Lum = [Luminosity[digitized_z == i].sum() for i in range(0, len(bins_z))]\n",
    "# print(bin_Lum)\n",
    "# plt.figure(figsize=(10, 10), dpi=80)\n",
    "# plt.scatter(bin_means_z, np.array(bin_Lum))\n",
    "# plt.xlabel('Redshift')\n",
    "# plt.ylabel('Luminosity')\n",
    "# plt.title('Luminosity vs redshift')"
   ]
  },
  {
   "cell_type": "markdown",
   "metadata": {},
   "source": [
    "The code to create SN rates assuming const rate per sm"
   ]
  },
  {
   "cell_type": "code",
   "execution_count": 24,
   "metadata": {},
   "outputs": [],
   "source": [
    "#Supernova rates assuming const per stellar mass\n",
    "h = 0.7\n",
    "sm = data['supernovae_rate_assuming_const_rate_per_stellar_mass'] \n",
    "bin_sum_sm = [sm[digitized_z == i].sum() for i in range(0, len(bins_z))]\n",
    "bin_sum_sm_per_square_degree = np.array(bin_sum_sm)/survey_area\n",
    "bin_sum_sm_all_sky = bin_sum_sm_per_square_degree*41253\n",
    "bin_sum_sm_all_sky_cum = np.cumsum(bin_sum_sm_all_sky)\n",
    "bin_sum_sm_per_vol = bin_sum_sm_all_sky/comoving_volume\n",
    "bin_sum_sm_per_vol_cum = np.cumsum(bin_sum_sm_per_vol)"
   ]
  },
  {
   "cell_type": "code",
   "execution_count": 25,
   "metadata": {},
   "outputs": [],
   "source": [
    "#Supernova rate assuming constant rate per stellar mass per square degree\n",
    "\n",
    "# plt.figure(figsize=(10, 10), dpi=80)\n",
    "# plt.scatter(bin_means_z, np.array(bin_sum_sm_per_square_degree))\n",
    "# plt.xlabel('Redshift')\n",
    "# plt.ylabel('Supernova rate [deg^-2]')\n",
    "# plt.title('Supernova rate assuming const rate per stellar mass vs redshift')\n",
    "\n",
    "#plt.show()"
   ]
  },
  {
   "cell_type": "code",
   "execution_count": 26,
   "metadata": {},
   "outputs": [
    {
     "name": "stderr",
     "output_type": "stream",
     "text": [
      "C:\\Users\\steve\\AppData\\Local\\Temp\\ipykernel_19492\\2882700854.py:4: RuntimeWarning: divide by zero encountered in log10\n",
      "  plt.scatter(bin_means_z, np.log10(np.array(np.cumsum(bin_sum_sm_all_sky/2))))\n"
     ]
    },
    {
     "data": {
      "image/png": "[encoded data removed]",
      "text/plain": [
       "<Figure size 800x800 with 1 Axes>"
      ]
     },
     "metadata": {
      "needs_background": "light"
     },
     "output_type": "display_data"
    }
   ],
   "source": [
    "#Cumulative Supernova rate assuming const rate per stellar mass all sky LOG\n",
    "\n",
    "plt.figure(figsize=(10, 10), dpi=80)\n",
    "plt.scatter(bin_means_z, np.log10(np.array(np.cumsum(bin_sum_sm_all_sky/2))))\n",
    "plt.xlabel('Redshift')\n",
    "plt.ylabel('Supernova rate [All sky - 41253deg2]')\n",
    "plt.title('Supernova rate assuming const rate per stellar mass vs redshift')\n",
    "\n",
    "plt.show()"
   ]
  },
  {
   "cell_type": "code",
   "execution_count": 27,
   "metadata": {},
   "outputs": [],
   "source": [
    "#Supernova rate assuming const rate per stellar mass all sky as a LOG GRAPH\n",
    "\n",
    "# plt.figure(figsize=(10, 10), dpi=80)\n",
    "# plt.scatter(bin_means_z,np.log10(np.array(bin_sum_sm_all_sky)))\n",
    "# plt.xlabel('Redshift')\n",
    "# plt.ylabel('Supernova rate [All sky - 41253deg2]')\n",
    "# plt.title('Supernova rate assuming const rate per stellar mass vs redshift')\n",
    "\n",
    "#plt.show()"
   ]
  },
  {
   "cell_type": "code",
   "execution_count": 28,
   "metadata": {},
   "outputs": [],
   "source": [
    "#Cumulutive Supernova rate assuming const rate per stellar mass all sky\n",
    "\n",
    "# plt.figure(figsize=(10, 10), dpi=80)\n",
    "# plt.scatter(bin_means_z, (np.array(bin_sum_sm_all_sky_cum)))\n",
    "# plt.xlabel('Redshift')\n",
    "# plt.ylabel('Cumulative Supernova rate [All sky - 41253deg2]')\n",
    "# plt.title('Cumulative Supernova assuming const rate rate per stellar mass vs redshift')\n",
    "\n",
    "#plt.show()"
   ]
  },
  {
   "cell_type": "code",
   "execution_count": 29,
   "metadata": {},
   "outputs": [],
   "source": [
    "#Cumulutive Supernova rate assuming const rate per stellar mass all sky as a LOG GRAPPH\n",
    "# bin_sum_sm_all_sky_cum_log = [np.log10(x) for x in bin_sum_sm_all_sky_cum]\n",
    "# plt.figure(figsize=(10, 10), dpi=80)\n",
    "# plt.scatter(bin_means_z, bin_sum_sm_all_sky_cum_log)\n",
    "# plt.xlabel('Redshift')\n",
    "# plt.ylabel('Cumulative Supernova rate [All sky - 41253deg2]')\n",
    "# plt.title('Cumulative Supernova rate assuming const rate per stellar mass vs redshift')\n",
    "\n",
    "#plt.show()"
   ]
  },
  {
   "cell_type": "code",
   "execution_count": 30,
   "metadata": {},
   "outputs": [],
   "source": [
    "#Supernova rate assuming const rate per stellar mass per Mpc^3\n",
    "\n",
    "# plt.figure(figsize=(10, 10), dpi=80)\n",
    "# plt.scatter(bin_means_z, np.array(bin_sum_sm_per_vol))\n",
    "# plt.xlabel('Redshift')\n",
    "# plt.ylabel('Supernova rate [Mpc^-3]')\n",
    "# plt.title('Supernova rate assuming const rate per stellar mass vs redshift')\n",
    "\n",
    "plt.show()"
   ]
  },
  {
   "cell_type": "code",
   "execution_count": 31,
   "metadata": {},
   "outputs": [
    {
     "name": "stderr",
     "output_type": "stream",
     "text": [
      "C:\\Users\\steve\\AppData\\Local\\Temp\\ipykernel_19492\\949721854.py:4: RuntimeWarning: divide by zero encountered in log10\n",
      "  plt.scatter(bin_means_z, np.log10(np.array(bin_sum_sm_per_vol_cum)))\n"
     ]
    },
    {
     "data": {
      "image/png": "[encoded data removed]",
      "text/plain": [
       "<Figure size 800x800 with 1 Axes>"
      ]
     },
     "metadata": {
      "needs_background": "light"
     },
     "output_type": "display_data"
    },
    {
     "name": "stderr",
     "output_type": "stream",
     "text": [
      "C:\\Users\\steve\\AppData\\Local\\Temp\\ipykernel_19492\\949721854.py:11: RuntimeWarning: divide by zero encountered in log10\n",
      "  np.interp(0.62, bin_means_z,  np.log10(np.array(bin_sum_sm_per_vol_cum)))\n"
     ]
    },
    {
     "data": {
      "text/plain": [
       "-3.3557136316773444"
      ]
     },
     "execution_count": 31,
     "metadata": {},
     "output_type": "execute_result"
    }
   ],
   "source": [
    "#Cumulutive Supernova rate assuming const rate per stellar mass per Mpc^3\n",
    "fontsize = 20\n",
    "plt.figure(figsize=(10, 10), dpi=80)\n",
    "plt.scatter(bin_means_z, np.log10(np.array(bin_sum_sm_per_vol_cum)))\n",
    "plt.xlabel('Redshift', fontdict={'fontsize': fontsize})\n",
    "plt.ylabel('LOG Cumulative Supernova rate [Mpc$^{-3}$]', fontdict={'fontsize': fontsize})\n",
    "plt.title('LOG Cumulative Supernova rate  vs redshift', fontdict={'fontsize': fontsize})\n",
    "plt.axvline(x =0.62, ymin = 0, ymax = 0.93)\n",
    "plt.axhline(y = -3.3557136316773444, xmin = 0.0, xmax = 0.5)\n",
    "plt.show()\n",
    "np.interp(0.62, bin_means_z,  np.log10(np.array(bin_sum_sm_per_vol_cum)))\n"
   ]
  },
  {
   "cell_type": "markdown",
   "metadata": {},
   "source": [
    "Code to create SN rates assuming const rate per SFR"
   ]
  },
  {
   "cell_type": "code",
   "execution_count": 32,
   "metadata": {},
   "outputs": [],
   "source": [
    "#Supernova rates assuming const rate per star formation rate\n",
    "\n",
    "sfr = data['supernovae_rate_assuming_const_rate_per_star_formation_rate']\n",
    "bin_sum_sfr = [sfr[digitized_z == i].sum() for i in range(0, len(bins_z))]\n",
    "bin_sum_sfr_per_square_degree = np.array(bin_sum_sfr)/survey_area\n",
    "bin_sum_sfr_all_sky = bin_sum_sfr_per_square_degree*41253\n",
    "bin_sum_sfr_all_sky_cum = np.cumsum(bin_sum_sfr_all_sky)\n",
    "bin_sum_sfr_per_vol = bin_sum_sfr_all_sky/comoving_volume\n",
    "bin_sum_sfr_per_vol_cum = np.cumsum(bin_sum_sfr_per_vol)"
   ]
  },
  {
   "cell_type": "code",
   "execution_count": 33,
   "metadata": {},
   "outputs": [],
   "source": [
    "#Supernova rates assuming const rate per star formation rate per square degree\n",
    "\n",
    "# plt.figure(figsize=(10, 10), dpi=80)\n",
    "# plt.scatter(bin_means_z, np.array(bin_sum_sfr_per_square_degree))\n",
    "# plt.xlabel('Redshift')\n",
    "# plt.ylabel('Supernova rate [deg^-2]')\n",
    "# plt.title('Supernova rate assuming const rate per star formation rate vs redshift')\n",
    "\n",
    "#plt.show()"
   ]
  },
  {
   "cell_type": "code",
   "execution_count": 34,
   "metadata": {},
   "outputs": [
    {
     "name": "stderr",
     "output_type": "stream",
     "text": [
      "C:\\Users\\steve\\AppData\\Local\\Temp\\ipykernel_19492\\2000194785.py:4: RuntimeWarning: divide by zero encountered in log10\n",
      "  plt.scatter(bin_means_z, np.log10(np.array(np.cumsum(bin_sum_sfr_all_sky/2))))\n"
     ]
    },
    {
     "data": {
      "image/png": "[encoded data removed]",
      "text/plain": [
       "<Figure size 800x800 with 1 Axes>"
      ]
     },
     "metadata": {
      "needs_background": "light"
     },
     "output_type": "display_data"
    }
   ],
   "source": [
    "#Cumulative Supernova rates assuming const rate per star formation rate all sky - 20,000deg^2 for LSST LOG\n",
    "\n",
    "plt.figure(figsize=(10, 10), dpi=80)\n",
    "plt.scatter(bin_means_z, np.log10(np.array(np.cumsum(bin_sum_sfr_all_sky/2))))\n",
    "plt.xlabel('Redshift')\n",
    "plt.ylabel('Supernova rate [All sky - 41253deg2]')\n",
    "plt.title('Supernova rate assuming const rate per star formation rate vs redshift')\n",
    "\n",
    "plt.show()"
   ]
  },
  {
   "cell_type": "code",
   "execution_count": 35,
   "metadata": {},
   "outputs": [],
   "source": [
    "#Cumulutive Supernova rates assuming const rate per star formation rate all sky\n",
    "\n",
    "# plt.figure(figsize=(10, 10), dpi=80)\n",
    "# plt.scatter(bin_means_z, np.array(bin_sum_sfr_all_sky_cum))\n",
    "# plt.xlabel('Redshift')\n",
    "# plt.ylabel('Cumulative Supernova rate [All sky - 41253deg2]')\n",
    "# plt.title('Cumulative Supernova assuming const rate rate per star formation rate vs redshift')\n",
    "\n",
    "#plt.show()"
   ]
  },
  {
   "cell_type": "code",
   "execution_count": 36,
   "metadata": {},
   "outputs": [
    {
     "name": "stderr",
     "output_type": "stream",
     "text": [
      "C:\\Users\\steve\\AppData\\Local\\Temp\\ipykernel_19492\\74371154.py:4: RuntimeWarning: divide by zero encountered in log10\n",
      "  plt.scatter(bin_means_z, np.log10(np.array(bin_sum_sfr_all_sky_cum/2)))\n"
     ]
    },
    {
     "data": {
      "image/png": "[encoded data removed]",
      "text/plain": [
       "<Figure size 800x800 with 1 Axes>"
      ]
     },
     "metadata": {
      "needs_background": "light"
     },
     "output_type": "display_data"
    }
   ],
   "source": [
    "#Cumulutive Supernova rates assuming const rate per star formation rate all sky as a LOG GRAPH\n",
    "\n",
    "plt.figure(figsize=(10, 10), dpi=80)\n",
    "plt.scatter(bin_means_z, np.log10(np.array(bin_sum_sfr_all_sky_cum/2)))\n",
    "plt.xlabel('Redshift')\n",
    "plt.ylabel('LOG Cumulative Supernova rate [All sky - 41253deg2]')\n",
    "plt.title('LOG Cumulative Supernova rate assuming const rate per star formation rate vs redshift')\n",
    "\n",
    "plt.show()"
   ]
  },
  {
   "cell_type": "code",
   "execution_count": 37,
   "metadata": {},
   "outputs": [],
   "source": [
    "#Supernova rates assuming const rate per star formation rate per Mpc^3\n",
    "\n",
    "# plt.figure(figsize=(10, 10), dpi=80)\n",
    "# plt.scatter(bin_means_z, np.log10(np.array(bin_sum_sfr_per_vol)))\n",
    "# plt.xlabel('Redshift')\n",
    "# plt.ylabel('Supernova rate [Mpc^-3]')\n",
    "# plt.title('Supernova rate assuming const rate per star formation rate vs redshift')\n",
    "\n",
    "# plt.show()"
   ]
  },
  {
   "cell_type": "code",
   "execution_count": 38,
   "metadata": {},
   "outputs": [],
   "source": [
    "#Cumulutive Supernova rates assuming const rate per star formation rate per Mpc^3\n",
    "\n",
    "# plt.figure(figsize=(10, 10), dpi=80)\n",
    "# plt.scatter(bin_means_z, np.array(bin_sum_sfr_per_vol_cum))\n",
    "# plt.xlabel('Redshift')\n",
    "# plt.ylabel('Cumulative Supernova rate [Mpc^-3]')\n",
    "# plt.title('Cumulative Supernova rate assuming const rate per star formation rate vs redshift')\n",
    "\n",
    "plt.show()"
   ]
  },
  {
   "cell_type": "code",
   "execution_count": 39,
   "metadata": {},
   "outputs": [
    {
     "name": "stderr",
     "output_type": "stream",
     "text": [
      "C:\\Users\\steve\\AppData\\Local\\Temp\\ipykernel_19492\\4231373826.py:5: RuntimeWarning: divide by zero encountered in log10\n",
      "  plt.scatter(bin_means_z, np.log10(np.array(bin_sum_sfr_per_vol_cum)))\n"
     ]
    },
    {
     "data": {
      "image/png": "[encoded data removed]",
      "text/plain": [
       "<Figure size 800x800 with 1 Axes>"
      ]
     },
     "metadata": {
      "needs_background": "light"
     },
     "output_type": "display_data"
    }
   ],
   "source": [
    "#Cumulutive Supernova rates assuming const rate per star formation rate per Mpc^3 as a LOG GRAPH\n",
    "\n",
    "fontsize = 20\n",
    "plt.figure(figsize=(10, 10), dpi=80)\n",
    "plt.scatter(bin_means_z, np.log10(np.array(bin_sum_sfr_per_vol_cum)))\n",
    "plt.xlabel('Redshift', fontdict={'fontsize': fontsize})\n",
    "plt.ylabel('LOG Cumulative Supernova rate [Mpc$^{-3}$yr$^{-1}$]', fontdict={'fontsize': fontsize})\n",
    "plt.title('LOG Cumulative Supernova rate  vs redshift', fontdict={'fontsize': fontsize})\n",
    "\n",
    "plt.show()"
   ]
  },
  {
   "cell_type": "markdown",
   "metadata": {},
   "source": [
    "Code to create Stellar Mass Function plots for Millenium at Z=0, Z=0.1, and Z=1"
   ]
  },
  {
   "cell_type": "code",
   "execution_count": 40,
   "metadata": {},
   "outputs": [],
   "source": [
    "h = 0.73"
   ]
  },
  {
   "cell_type": "markdown",
   "metadata": {},
   "source": [
    "This first graph needs to be corrected for feedback etc"
   ]
  },
  {
   "cell_type": "code",
   "execution_count": 41,
   "metadata": {},
   "outputs": [
    {
     "data": {
      "text/plain": [
       "[<matplotlib.lines.Line2D at 0x1e5b3489190>]"
      ]
     },
     "execution_count": 41,
     "metadata": {},
     "output_type": "execute_result"
    },
    {
     "data": {
      "image/png": "[encoded data removed]",
      "text/plain": [
       "<Figure size 800x800 with 1 Axes>"
      ]
     },
     "metadata": {
      "needs_background": "light"
     },
     "output_type": "display_data"
    }
   ],
   "source": [
    "import numpy as np\n",
    "import matplotlib.pyplot as plt\n",
    "fontsize = 20\n",
    "Co_Vol_at_z1 = np.interp(0.000000000001,bins_z,comoving_volume)\n",
    "\n",
    "M     = data_0['Total_Stellar_Mass']*10**10         #Read stellar masses in Msun\n",
    "#total_sm = [M[digitized_z == i].sum() for i in range(1, len(bins_z))]\n",
    "#sm = M[1:30]\n",
    "#print(sm)\n",
    "#print(total_sm)\n",
    "logM  = np.log10(M)                     #Take logarithm\n",
    "nbins = 100                              #Number of bins to divide data into\n",
    "V     = Co_Vol_at_z1                           #Survey volume in Mpc3\n",
    "Phi,edg = np.histogram(logM,bins=nbins) #Unnormalized histogram and bin edges\n",
    "dM    = edg[1] - edg[0]  #Bin size\n",
    "Max   = edg[0:-1] + dM/2.               #Mass axis\n",
    "Phi   = Phi / V / dM                    #Normalize to volume and bin size\n",
    "plt.figure(figsize=(10, 10), dpi=80)\n",
    "plt.clf()\n",
    "plt.yscale('log')\n",
    "plt.xlabel(r'$\\log(M_\\star\\,/\\,M_\\odot)$', fontdict={'fontsize': fontsize})\n",
    "plt.ylabel(r'$\\Phi\\,/\\,\\mathrm{dex}^{-1}\\,\\mathrm{Mpc}^{-3}$', fontdict={'fontsize': fontsize})\n",
    "plt.title(r'Stellar mass functon of Millenium at a Redhift of 0', fontdict={'fontsize': fontsize})\n",
    "plt.plot(Max,Phi,'rx')"
   ]
  },
  {
   "cell_type": "code",
   "execution_count": 42,
   "metadata": {},
   "outputs": [],
   "source": [
    "# import numpy as np\n",
    "# import matplotlib.pyplot as plt\n",
    "\n",
    "# Co_Vol_at_z2 = np.interp(0.0000000000000001,bins_z,comoving_volume)\n",
    "# M= data_0['Total_Stellar_Mass']*10**10   #Read stellar masses in Msun\n",
    "# logM  = np.log10(M)                     #Take logarithm\n",
    "# nbins = 100                              #Number of bins to divide data into\n",
    "# V     = Co_Vol_at_z2                            #Survey volume in Mpc3\n",
    "# Phi,edg = np.histogram(logM,bins=nbins) #Unnormalized histogram and bin edges\n",
    "# dM    = edg[1] - edg[0]                 #Bin size\n",
    "# Max   = edg[0:-1] + dM/2.               #Mass axis\n",
    "# Phi   = Phi / V / dM                    #Normalize to volume and bin size\n",
    "# plt.figure(figsize=(10, 10), dpi=80)\n",
    "# plt.clf()\n",
    "# plt.yscale('log')\n",
    "# plt.xlabel(r'$\\log(M_\\star\\,/\\,M_\\odot)$')\n",
    "# plt.ylabel(r'$\\Phi\\,/\\,\\mathrm{dex}^{-1}\\,\\mathrm{Mpc}^{-3}$')\n",
    "# plt.plot(Max,Phi,ls='dashed')\n",
    "# print(edg[1])"
   ]
  },
  {
   "cell_type": "code",
   "execution_count": 43,
   "metadata": {},
   "outputs": [],
   "source": [
    "# Co_Vol_at_z3 = np.interp(1,bins_z,comoving_volume)\n",
    "\n",
    "# M     = data_0['Total_Stellar_Mass']*10**10         #Read stellar masses in Msun\n",
    "# logM  = np.log10(M)                     #Take logarithm\n",
    "# nbins = 100                              #Number of bins to divide data into\n",
    "# V     = Co_Vol_at_z3                           #Survey volume in Mpc3\n",
    "# Phi,edg = np.histogram(logM,bins=nbins) #Unnormalized histogram and bin edges\n",
    "# dM    = edg[1] - edg[0]                 #Bin size\n",
    "# Max   = edg[0:-1] + dM/2.               #Mass axis\n",
    "# Phi   = Phi / V / dM                    #Normalize to volume and bin size\n",
    "# plt.figure(figsize=(10, 10), dpi=80)\n",
    "# plt.clf()\n",
    "# plt.yscale('log')\n",
    "# plt.xlabel(r'$\\log(M_\\star\\,/\\,M_\\odot)$')\n",
    "# plt.ylabel(r'$\\Phi\\,/\\,\\mathrm{dex}^{-1}\\,\\mathrm{Mpc}^{-3}$')\n",
    "# plt.plot(Max,Phi,ls='dashed')"
   ]
  },
  {
   "cell_type": "markdown",
   "metadata": {},
   "source": [
    "Attemp to plot of SFR density against Redshift"
   ]
  },
  {
   "cell_type": "code",
   "execution_count": 44,
   "metadata": {},
   "outputs": [],
   "source": [
    "TOTAL_SFR_RATE = data_0['Total_Star_Formation_Rate']\n",
    "bin_sum_totalsfr = [TOTAL_SFR_RATE[digitized_z == i].sum() for i in range(0, len(bins_z))]\n",
    "bin_sum_totalsfr_per_square_degree = np.array(bin_sum_sfr)/survey_area\n",
    "bin_sum_totalsfr_all_sky = bin_sum_totalsfr_per_square_degree*41253\n",
    "bin_sum_totalsfr_all_sky_cum = np.cumsum(bin_sum_totalsfr_all_sky)\n",
    "bin_sum_totalsfr_per_vol = bin_sum_totalsfr_all_sky/comoving_volume\n",
    "bin_sum_totalsfr_per_vol_cum = np.cumsum(bin_sum_totalsfr_per_vol)"
   ]
  },
  {
   "cell_type": "code",
   "execution_count": 45,
   "metadata": {},
   "outputs": [],
   "source": [
    "#print(bin_sum_totalsfr_per_vol)"
   ]
  },
  {
   "cell_type": "markdown",
   "metadata": {},
   "source": [
    "This plot's vertical axis should be centred around -2 - our graph is shifted vertically lower - why?"
   ]
  },
  {
   "cell_type": "code",
   "execution_count": 46,
   "metadata": {},
   "outputs": [],
   "source": [
    "#Plotting SFR against Z\n",
    "# plt.figure(figsize=(10, 10), dpi=80)\n",
    "# plt.scatter(bin_means_z, np.log10(bin_sum_totalsfr_per_vol_cum.value))\n",
    "# plt.xlabel('')\n",
    "# plt.ylabel('')\n",
    "# plt.title('')\n",
    "\n",
    "# plt.show()"
   ]
  },
  {
   "cell_type": "markdown",
   "metadata": {},
   "source": [
    "Improving our TDE Rate Equation "
   ]
  },
  {
   "cell_type": "markdown",
   "metadata": {},
   "source": [
    "In the following cell i will use Van Velzen (2018) method of summing the 1/Vmax in bins of luminosity in order to find a luminosity function of TDE's.\n",
    "We have to use the flux limit of the survey."
   ]
  },
  {
   "cell_type": "code",
   "execution_count": 47,
   "metadata": {},
   "outputs": [
    {
     "name": "stdout",
     "output_type": "stream",
     "text": [
      "82341    -16.4526\n",
      "121562   -16.0337\n",
      "121560   -15.8725\n",
      "121564   -16.4875\n",
      "121561   -16.5862\n",
      "           ...   \n",
      "42670    -20.2534\n",
      "42744    -21.8602\n",
      "42803    -21.3400\n",
      "42689    -18.6985\n",
      "42697    -20.4798\n",
      "Name: Keck_DEIMOS_DEEP_B_Absolute, Length: 608374, dtype: float64\n"
     ]
    }
   ],
   "source": [
    "lum = data_0['Keck_DEIMOS_DEEP_B_Apparent']\n",
    "print(Luminosity)"
   ]
  },
  {
   "cell_type": "code",
   "execution_count": 48,
   "metadata": {},
   "outputs": [],
   "source": [
    "# plt.figure(figsize=(10, 10), dpi=80)\n",
    "# plt.scatter(z, lum)\n",
    "# plt.xlabel('')\n",
    "# plt.ylabel('')\n",
    "# plt.title('')\n",
    "# plt.xlim([0, 0.1])\n",
    "# plt.ylim([15, 25])"
   ]
  },
  {
   "cell_type": "code",
   "execution_count": 49,
   "metadata": {},
   "outputs": [],
   "source": [
    "bins_lum = np.linspace(np.min(lum), np.max(lum), no_of_bins)\n",
    "binsize = (np.max(lum) - np.min(lum))/no_of_bins\n",
    "digitized_lum = np.digitize(lum, bins_lum) #creates mask for each bin\n",
    "bin_means_lum = [lum[digitized_lum == i].mean() for i in range(0, len(bins_lum))]"
   ]
  },
  {
   "cell_type": "code",
   "execution_count": 50,
   "metadata": {},
   "outputs": [
    {
     "name": "stdout",
     "output_type": "stream",
     "text": [
      "100\n"
     ]
    }
   ],
   "source": [
    "print(len(bin_means_lum)) #want len of Vmax to match this so "
   ]
  },
  {
   "cell_type": "code",
   "execution_count": 51,
   "metadata": {},
   "outputs": [
    {
     "name": "stdout",
     "output_type": "stream",
     "text": [
      "82341     1.116749e+14\n",
      "121562    2.905946e+14\n",
      "121560    9.025153e+13\n",
      "121564    6.276206e+14\n",
      "121561    1.075936e+12\n",
      "              ...     \n",
      "42670     9.510324e+13\n",
      "42744     9.771779e+13\n",
      "42803     9.093581e+13\n",
      "42689     9.258810e+13\n",
      "42697     9.680397e+13\n",
      "Length: 608374, dtype: float64\n"
     ]
    }
   ],
   "source": [
    "A = RA * DEC\n",
    "zmax = 0.1\n",
    "VZmax = np.interp(1, bin_means_z, comoving_volume)\n",
    "Tau = 60*60 ## What is the correct value for survey time?\n",
    "\n",
    "\n",
    "\n",
    "Vmax = VZmax * A * Tau\n",
    "print(Vmax)"
   ]
  },
  {
   "cell_type": "code",
   "execution_count": 52,
   "metadata": {},
   "outputs": [],
   "source": [
    "bin_sum_Vmax = [lum[digitized_lum == i].sum() for i in range(0, len(bins_lum))]\n",
    "#print(bin_sum_Vmax)\n",
    "yy = bin_sum_Vmax[1:]\n",
    "#print(xx)\n",
    "yyy = bin_sum_Vmax[1:30]\n",
    "#print(xxx)\n",
    "xxx = bin_means_lum[1:30]\n",
    "#print(xxx)\n",
    "Lum_bin = [i*4*10**26 for i in xxx]\n",
    "# bin_sum_Vmax.sort()\n",
    "#print(yyy)\n",
    "# for num in xxx:\n",
    "#     y = 1/num\n",
    "#     print(y)"
   ]
  },
  {
   "cell_type": "code",
   "execution_count": 53,
   "metadata": {},
   "outputs": [],
   "source": [
    "# plt.figure(figsize=(10, 10), dpi=80)\n",
    "# plt.scatter(Lum_bin, yyy)\n",
    "# plt.xlabel('Lum')\n",
    "# plt.ylabel('1/Vmax')\n",
    "# plt.title('')\n",
    "\n",
    "# plt.show()"
   ]
  },
  {
   "cell_type": "markdown",
   "metadata": {},
   "source": [
    "Following graph is 1/Vmax against bins of Lum"
   ]
  },
  {
   "cell_type": "code",
   "execution_count": 54,
   "metadata": {},
   "outputs": [
    {
     "name": "stderr",
     "output_type": "stream",
     "text": [
      "C:\\Users\\steve\\AppData\\Local\\Temp\\ipykernel_19492\\2515035377.py:1: RuntimeWarning: divide by zero encountered in double_scalars\n",
      "  y = [1 / y for y in yyy]\n"
     ]
    }
   ],
   "source": [
    "y = [1 / y for y in yyy]"
   ]
  },
  {
   "cell_type": "code",
   "execution_count": 55,
   "metadata": {},
   "outputs": [],
   "source": [
    "# plt.figure(figsize=(10, 10), dpi=80)\n",
    "# plt.scatter(Lum_bin, y)\n",
    "# plt.xlabel('Lum')\n",
    "# plt.ylabel('1/Vmax')\n",
    "# plt.title('')\n",
    "\n",
    "# plt.show()"
   ]
  },
  {
   "cell_type": "code",
   "execution_count": 56,
   "metadata": {},
   "outputs": [],
   "source": [
    "#Summed all of the Lums\n",
    "\n",
    "# bin_sum_Vmax = [lum[digitized_lum == i].sum() for i in range(0, len(bins_lum))]\n",
    "# #print(bin_sum_Vmax)\n",
    "# bin_sum_Vmax.sort()\n",
    "# plt.figure(figsize=(10, 10), dpi=80)\n",
    "# plt.scatter(bin_means_lum, bin_sum_Vmax)\n",
    "# plt.xlabel('')\n",
    "# plt.ylabel('')\n",
    "# plt.title('')\n",
    "\n",
    "# plt.show()"
   ]
  },
  {
   "cell_type": "markdown",
   "metadata": {},
   "source": [
    "From here, we want to plot Van Velzen(2018) method and find the well fitted power law/estimation which should give us our corrected value of 10^-4 instead of our modelled value of 10^-5"
   ]
  },
  {
   "cell_type": "code",
   "execution_count": 57,
   "metadata": {},
   "outputs": [],
   "source": [
    "# # l = Lum **1*10**24\n",
    "# for i in Lum:\n",
    "#     x1 = i*1*10**24\n",
    "#     print(x1)\n",
    "# l = [ i*1*10**24 for i in Lum]\n",
    "# print(l)"
   ]
  },
  {
   "cell_type": "code",
   "execution_count": 58,
   "metadata": {},
   "outputs": [
    {
     "name": "stdout",
     "output_type": "stream",
     "text": [
      "[9.255276917436503e-105, 8.4391627245472e-105, 7.833406341272129e-105, 7.274156078652855e-105, 6.771111987308349e-105, 6.323258832063906e-105, 5.924443649180318e-105, 5.572353690131885e-105, 5.249828694350847e-105, 4.961679247495338e-105, 4.6988420032363895e-105, 4.4582316192357885e-105, 4.2386395061977065e-105, 4.037020157014139e-105, 3.849396329536363e-105, 3.66964906074989e-105, 3.5066398612259696e-105, 3.360771914165383e-105, 3.2330584293508626e-105, 3.10947200195448e-105, 2.9853856360691203e-105, 2.8160535694102075e-105, 2.73494567163188e-105, 2.67377427594621e-105, nan, nan, nan, nan, nan]\n"
     ]
    }
   ],
   "source": [
    "#For help y = [1 / y for y in yyy]\n",
    "#print(l)\n",
    "Tde = [2*10**-7*(p/1*10**37)**(-1.5) for p in Lum_bin]\n",
    "#tde = np.array(Tde)\n",
    "#print(tde)\n",
    "#print(Tde)\n",
    "denominator = [np.log10(x) for x in Lum_bin]  \n",
    "#ll = np.array(l)\n",
    "#lll = l*1*10**26 ##### Want to divide Tde by denominator but cant because need to iterator through denminator to log every value inside \n",
    "#print(lll)\n",
    "#print(denominator)\n",
    "#d = np.array(denominator)\n",
    "#print(np.log10(l[0])) # matches first log value so works \n",
    "# for j in denominator:\n",
    "#     print(j)\n",
    "# for j in Tde:\n",
    "#     print(j)\n",
    "n = [i / np.log10(j) for i, j in zip(Tde, denominator)]\n",
    "print(n)\n",
    "#type(denominator)\n",
    "#type(Tde)\n",
    "#x = [i/denominator for i in Tde]\n",
    "    #print(x)\n",
    "#     Lum_bin = [lum[digitized_lum == i].sum() for i in range(0, len(bins_z))]\n",
    "#     print(Lum_bin)"
   ]
  },
  {
   "cell_type": "markdown",
   "metadata": {},
   "source": [
    "Attempt to plot their log fit function onto my graph to see if they match"
   ]
  },
  {
   "cell_type": "code",
   "execution_count": 59,
   "metadata": {},
   "outputs": [],
   "source": [
    "# plt.figure(figsize=(10, 10), dpi=80)\n",
    "# n_bin = [lum[digitized_lum == i].sum() for i in range(0, len(bins_lum))]\n",
    "# #print(x)\n",
    "# print(tde)\n",
    "# #plt.scatter(Lum_bin, y)\n",
    "# plt.scatter(Lum_bin, n)\n",
    "# plt.xlabel('Lum bin')\n",
    "# plt.ylabel('TDE')\n",
    "# plt.title('')\n",
    "\n",
    "# plt.show()"
   ]
  },
  {
   "cell_type": "code",
   "execution_count": null,
   "metadata": {},
   "outputs": [],
   "source": []
  },
  {
   "cell_type": "code",
   "execution_count": null,
   "metadata": {},
   "outputs": [],
   "source": []
  },
  {
   "cell_type": "code",
   "execution_count": null,
   "metadata": {},
   "outputs": [],
   "source": []
  }
 ],
 "metadata": {
  "kernelspec": {
   "display_name": "Python 3 (ipykernel)",
   "language": "python",
   "name": "python3"
  },
  "language_info": {
   "codemirror_mode": {
    "name": "ipython",
    "version": 3
   },
   "file_extension": ".py",
   "mimetype": "text/x-python",
   "name": "python",
   "nbconvert_exporter": "python",
   "pygments_lexer": "ipython3",
   "version": "3.9.12"
  },
  "vscode": {
   "interpreter": {
    "hash": "70f3c9c5f530effdc6a80dbad78b3cafea2afa458216aedd385384b265543c30"
   }
  }
 },
 "nbformat": 4,
 "nbformat_minor": 4
}
