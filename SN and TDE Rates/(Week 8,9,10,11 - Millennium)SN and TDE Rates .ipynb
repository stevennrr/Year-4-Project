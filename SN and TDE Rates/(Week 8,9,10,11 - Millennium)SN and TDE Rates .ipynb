{
 "cells": [
  {
   "cell_type": "code",
   "execution_count": 1,
   "metadata": {},
   "outputs": [],
   "source": [
    "import csv\n",
    "import numpy as np\n",
    "import scipy as sp\n",
    "import astropy as ap\n",
    "import matplotlib.pyplot as plt\n",
    "import pandas as pd\n",
    "from scipy import integrate \n",
    "from astropy.cosmology import WMAP9 #import relevant cosmology (find way to automate this for each dataset)\n",
    "import math"
   ]
  },
  {
   "cell_type": "markdown",
   "metadata": {},
   "source": [
    "A definition of our bin size, survey area is provided. We then read our data file in from the TAO database.\n"
   ]
  },
  {
   "cell_type": "code",
   "execution_count": 2,
   "metadata": {},
   "outputs": [],
   "source": [
    "#Define useful parameters\n",
    "\n",
    "no_of_bins = 100\n",
    "survey_area = 4"
   ]
  },
  {
   "cell_type": "code",
   "execution_count": 3,
   "metadata": {},
   "outputs": [
    {
     "data": {
      "text/html": [
       "<div>\n",
       "<style scoped>\n",
       "    .dataframe tbody tr th:only-of-type {\n",
       "        vertical-align: middle;\n",
       "    }\n",
       "\n",
       "    .dataframe tbody tr th {\n",
       "        vertical-align: top;\n",
       "    }\n",
       "\n",
       "    .dataframe thead th {\n",
       "        text-align: right;\n",
       "    }\n",
       "</style>\n",
       "<table border=\"1\" class=\"dataframe\">\n",
       "  <thead>\n",
       "    <tr style=\"text-align: right;\">\n",
       "      <th></th>\n",
       "      <th>Total_Stellar_Mass</th>\n",
       "      <th>Bulge_Stellar_Mass</th>\n",
       "      <th>Black_Hole_Mass</th>\n",
       "      <th>Cold_Gas_Mass</th>\n",
       "      <th>Hot_Gas_Mass</th>\n",
       "      <th>Ejected_Gas_Mass</th>\n",
       "      <th>Intracluster_Stars_Mass</th>\n",
       "      <th>Metals_Total_Stellar_Mass</th>\n",
       "      <th>Metals_Bulge_Mass</th>\n",
       "      <th>Metals_Cold_Gas_Mass</th>\n",
       "      <th>...</th>\n",
       "      <th>Snapshot_Number</th>\n",
       "      <th>Galaxy_ID</th>\n",
       "      <th>Central_Galaxy_ID</th>\n",
       "      <th>Simulation_Halo_ID</th>\n",
       "      <th>Keck_DEIMOS_DEEP_B_Absolute</th>\n",
       "      <th>Keck_DEIMOS_DEEP_B_Apparent</th>\n",
       "      <th>Keck_DEIMOS_DEEP_R_Absolute</th>\n",
       "      <th>Keck_DEIMOS_DEEP_R_Apparent</th>\n",
       "      <th>Keck_DEIMOS_DEEP_I_Absolute</th>\n",
       "      <th>Keck_DEIMOS_DEEP_I_Apparent</th>\n",
       "    </tr>\n",
       "  </thead>\n",
       "  <tbody>\n",
       "    <tr>\n",
       "      <th>0</th>\n",
       "      <td>0.379666</td>\n",
       "      <td>0.000000</td>\n",
       "      <td>0.000000</td>\n",
       "      <td>0.388483</td>\n",
       "      <td>0.597879</td>\n",
       "      <td>0.922215</td>\n",
       "      <td>0.037507</td>\n",
       "      <td>0.003583</td>\n",
       "      <td>0.000000</td>\n",
       "      <td>0.004832</td>\n",
       "      <td>...</td>\n",
       "      <td>39</td>\n",
       "      <td>467002712000000000</td>\n",
       "      <td>467002712000000000</td>\n",
       "      <td>2946268972</td>\n",
       "      <td>-20.5679</td>\n",
       "      <td>24.2341</td>\n",
       "      <td>-20.8923</td>\n",
       "      <td>24.0621</td>\n",
       "      <td>-21.0405</td>\n",
       "      <td>23.6940</td>\n",
       "    </tr>\n",
       "    <tr>\n",
       "      <th>1</th>\n",
       "      <td>0.136539</td>\n",
       "      <td>0.000000</td>\n",
       "      <td>0.000000</td>\n",
       "      <td>0.858644</td>\n",
       "      <td>0.880154</td>\n",
       "      <td>0.446934</td>\n",
       "      <td>0.134356</td>\n",
       "      <td>0.000866</td>\n",
       "      <td>0.000000</td>\n",
       "      <td>0.003344</td>\n",
       "      <td>...</td>\n",
       "      <td>39</td>\n",
       "      <td>467002819000000000</td>\n",
       "      <td>467002819000000000</td>\n",
       "      <td>2938917265</td>\n",
       "      <td>-19.7931</td>\n",
       "      <td>24.4250</td>\n",
       "      <td>-19.9850</td>\n",
       "      <td>24.5366</td>\n",
       "      <td>-20.0706</td>\n",
       "      <td>24.3189</td>\n",
       "    </tr>\n",
       "    <tr>\n",
       "      <th>2</th>\n",
       "      <td>0.294770</td>\n",
       "      <td>0.051038</td>\n",
       "      <td>0.000101</td>\n",
       "      <td>0.684603</td>\n",
       "      <td>0.741515</td>\n",
       "      <td>0.706550</td>\n",
       "      <td>0.000000</td>\n",
       "      <td>0.001821</td>\n",
       "      <td>0.000311</td>\n",
       "      <td>0.004407</td>\n",
       "      <td>...</td>\n",
       "      <td>39</td>\n",
       "      <td>467002825000000000</td>\n",
       "      <td>467002825000000000</td>\n",
       "      <td>2939169738</td>\n",
       "      <td>-20.5011</td>\n",
       "      <td>23.8641</td>\n",
       "      <td>-20.6548</td>\n",
       "      <td>23.9137</td>\n",
       "      <td>-20.7294</td>\n",
       "      <td>23.6595</td>\n",
       "    </tr>\n",
       "    <tr>\n",
       "      <th>3</th>\n",
       "      <td>0.014943</td>\n",
       "      <td>0.000000</td>\n",
       "      <td>0.000000</td>\n",
       "      <td>0.030843</td>\n",
       "      <td>0.000000</td>\n",
       "      <td>0.181472</td>\n",
       "      <td>0.000000</td>\n",
       "      <td>0.000076</td>\n",
       "      <td>0.000000</td>\n",
       "      <td>0.000210</td>\n",
       "      <td>...</td>\n",
       "      <td>39</td>\n",
       "      <td>467000635000000013</td>\n",
       "      <td>467000635000000013</td>\n",
       "      <td>2938917354</td>\n",
       "      <td>-16.3827</td>\n",
       "      <td>30.0040</td>\n",
       "      <td>-16.9026</td>\n",
       "      <td>28.9767</td>\n",
       "      <td>-17.0557</td>\n",
       "      <td>28.1390</td>\n",
       "    </tr>\n",
       "    <tr>\n",
       "      <th>4</th>\n",
       "      <td>0.065332</td>\n",
       "      <td>0.000000</td>\n",
       "      <td>0.000000</td>\n",
       "      <td>0.087791</td>\n",
       "      <td>0.000798</td>\n",
       "      <td>0.559373</td>\n",
       "      <td>0.000000</td>\n",
       "      <td>0.000383</td>\n",
       "      <td>0.000000</td>\n",
       "      <td>0.000820</td>\n",
       "      <td>...</td>\n",
       "      <td>39</td>\n",
       "      <td>467000635000000012</td>\n",
       "      <td>467000635000000012</td>\n",
       "      <td>2938917355</td>\n",
       "      <td>-18.7029</td>\n",
       "      <td>25.7607</td>\n",
       "      <td>-18.9291</td>\n",
       "      <td>25.7635</td>\n",
       "      <td>-19.0260</td>\n",
       "      <td>25.4666</td>\n",
       "    </tr>\n",
       "    <tr>\n",
       "      <th>...</th>\n",
       "      <td>...</td>\n",
       "      <td>...</td>\n",
       "      <td>...</td>\n",
       "      <td>...</td>\n",
       "      <td>...</td>\n",
       "      <td>...</td>\n",
       "      <td>...</td>\n",
       "      <td>...</td>\n",
       "      <td>...</td>\n",
       "      <td>...</td>\n",
       "      <td>...</td>\n",
       "      <td>...</td>\n",
       "      <td>...</td>\n",
       "      <td>...</td>\n",
       "      <td>...</td>\n",
       "      <td>...</td>\n",
       "      <td>...</td>\n",
       "      <td>...</td>\n",
       "      <td>...</td>\n",
       "      <td>...</td>\n",
       "      <td>...</td>\n",
       "    </tr>\n",
       "    <tr>\n",
       "      <th>827971</th>\n",
       "      <td>1.990170</td>\n",
       "      <td>0.457452</td>\n",
       "      <td>0.000897</td>\n",
       "      <td>0.150992</td>\n",
       "      <td>12.166300</td>\n",
       "      <td>0.007979</td>\n",
       "      <td>0.659508</td>\n",
       "      <td>0.025149</td>\n",
       "      <td>0.005730</td>\n",
       "      <td>0.001174</td>\n",
       "      <td>...</td>\n",
       "      <td>57</td>\n",
       "      <td>113013364000000000</td>\n",
       "      <td>113013364000000000</td>\n",
       "      <td>4898720574</td>\n",
       "      <td>-19.4465</td>\n",
       "      <td>20.8083</td>\n",
       "      <td>-20.5662</td>\n",
       "      <td>18.9887</td>\n",
       "      <td>-20.9025</td>\n",
       "      <td>18.6181</td>\n",
       "    </tr>\n",
       "    <tr>\n",
       "      <th>827972</th>\n",
       "      <td>1.981850</td>\n",
       "      <td>0.971344</td>\n",
       "      <td>0.000770</td>\n",
       "      <td>0.018918</td>\n",
       "      <td>1.709370</td>\n",
       "      <td>1.652110</td>\n",
       "      <td>0.055369</td>\n",
       "      <td>0.025811</td>\n",
       "      <td>0.012004</td>\n",
       "      <td>0.000270</td>\n",
       "      <td>...</td>\n",
       "      <td>57</td>\n",
       "      <td>113013786000000000</td>\n",
       "      <td>113013786000000000</td>\n",
       "      <td>4903420208</td>\n",
       "      <td>-20.3681</td>\n",
       "      <td>19.8176</td>\n",
       "      <td>-21.3317</td>\n",
       "      <td>18.2022</td>\n",
       "      <td>-21.6289</td>\n",
       "      <td>17.8772</td>\n",
       "    </tr>\n",
       "    <tr>\n",
       "      <th>827973</th>\n",
       "      <td>0.256673</td>\n",
       "      <td>0.000000</td>\n",
       "      <td>0.000000</td>\n",
       "      <td>0.174229</td>\n",
       "      <td>0.000000</td>\n",
       "      <td>0.000000</td>\n",
       "      <td>0.000000</td>\n",
       "      <td>0.002342</td>\n",
       "      <td>0.000000</td>\n",
       "      <td>0.002468</td>\n",
       "      <td>...</td>\n",
       "      <td>57</td>\n",
       "      <td>113013388000000004</td>\n",
       "      <td>113013388000000000</td>\n",
       "      <td>4903418589</td>\n",
       "      <td>-17.7280</td>\n",
       "      <td>22.3944</td>\n",
       "      <td>-18.6977</td>\n",
       "      <td>20.8304</td>\n",
       "      <td>-18.9934</td>\n",
       "      <td>20.5002</td>\n",
       "    </tr>\n",
       "    <tr>\n",
       "      <th>827974</th>\n",
       "      <td>0.014744</td>\n",
       "      <td>0.000000</td>\n",
       "      <td>0.000000</td>\n",
       "      <td>0.065355</td>\n",
       "      <td>0.000000</td>\n",
       "      <td>0.082336</td>\n",
       "      <td>0.000000</td>\n",
       "      <td>0.000046</td>\n",
       "      <td>0.000000</td>\n",
       "      <td>0.000363</td>\n",
       "      <td>...</td>\n",
       "      <td>57</td>\n",
       "      <td>113021403000000000</td>\n",
       "      <td>113021403000000000</td>\n",
       "      <td>4900979472</td>\n",
       "      <td>-16.9771</td>\n",
       "      <td>22.6615</td>\n",
       "      <td>-17.1878</td>\n",
       "      <td>22.1179</td>\n",
       "      <td>-17.2654</td>\n",
       "      <td>22.0293</td>\n",
       "    </tr>\n",
       "    <tr>\n",
       "      <th>827975</th>\n",
       "      <td>0.013439</td>\n",
       "      <td>0.000000</td>\n",
       "      <td>0.000000</td>\n",
       "      <td>0.076049</td>\n",
       "      <td>0.009267</td>\n",
       "      <td>0.032594</td>\n",
       "      <td>0.000000</td>\n",
       "      <td>0.000047</td>\n",
       "      <td>0.000000</td>\n",
       "      <td>0.000298</td>\n",
       "      <td>...</td>\n",
       "      <td>57</td>\n",
       "      <td>113021209000000000</td>\n",
       "      <td>113021209000000000</td>\n",
       "      <td>4898688965</td>\n",
       "      <td>-15.8380</td>\n",
       "      <td>24.0527</td>\n",
       "      <td>-16.3938</td>\n",
       "      <td>23.0288</td>\n",
       "      <td>-16.5555</td>\n",
       "      <td>22.8272</td>\n",
       "    </tr>\n",
       "  </tbody>\n",
       "</table>\n",
       "<p>827976 rows × 58 columns</p>\n",
       "</div>"
      ],
      "text/plain": [
       "        Total_Stellar_Mass  Bulge_Stellar_Mass  Black_Hole_Mass  \\\n",
       "0                 0.379666            0.000000         0.000000   \n",
       "1                 0.136539            0.000000         0.000000   \n",
       "2                 0.294770            0.051038         0.000101   \n",
       "3                 0.014943            0.000000         0.000000   \n",
       "4                 0.065332            0.000000         0.000000   \n",
       "...                    ...                 ...              ...   \n",
       "827971            1.990170            0.457452         0.000897   \n",
       "827972            1.981850            0.971344         0.000770   \n",
       "827973            0.256673            0.000000         0.000000   \n",
       "827974            0.014744            0.000000         0.000000   \n",
       "827975            0.013439            0.000000         0.000000   \n",
       "\n",
       "        Cold_Gas_Mass  Hot_Gas_Mass  Ejected_Gas_Mass  \\\n",
       "0            0.388483      0.597879          0.922215   \n",
       "1            0.858644      0.880154          0.446934   \n",
       "2            0.684603      0.741515          0.706550   \n",
       "3            0.030843      0.000000          0.181472   \n",
       "4            0.087791      0.000798          0.559373   \n",
       "...               ...           ...               ...   \n",
       "827971       0.150992     12.166300          0.007979   \n",
       "827972       0.018918      1.709370          1.652110   \n",
       "827973       0.174229      0.000000          0.000000   \n",
       "827974       0.065355      0.000000          0.082336   \n",
       "827975       0.076049      0.009267          0.032594   \n",
       "\n",
       "        Intracluster_Stars_Mass  Metals_Total_Stellar_Mass  Metals_Bulge_Mass  \\\n",
       "0                      0.037507                   0.003583           0.000000   \n",
       "1                      0.134356                   0.000866           0.000000   \n",
       "2                      0.000000                   0.001821           0.000311   \n",
       "3                      0.000000                   0.000076           0.000000   \n",
       "4                      0.000000                   0.000383           0.000000   \n",
       "...                         ...                        ...                ...   \n",
       "827971                 0.659508                   0.025149           0.005730   \n",
       "827972                 0.055369                   0.025811           0.012004   \n",
       "827973                 0.000000                   0.002342           0.000000   \n",
       "827974                 0.000000                   0.000046           0.000000   \n",
       "827975                 0.000000                   0.000047           0.000000   \n",
       "\n",
       "        Metals_Cold_Gas_Mass  ...  Snapshot_Number           Galaxy_ID  \\\n",
       "0                   0.004832  ...               39  467002712000000000   \n",
       "1                   0.003344  ...               39  467002819000000000   \n",
       "2                   0.004407  ...               39  467002825000000000   \n",
       "3                   0.000210  ...               39  467000635000000013   \n",
       "4                   0.000820  ...               39  467000635000000012   \n",
       "...                      ...  ...              ...                 ...   \n",
       "827971              0.001174  ...               57  113013364000000000   \n",
       "827972              0.000270  ...               57  113013786000000000   \n",
       "827973              0.002468  ...               57  113013388000000004   \n",
       "827974              0.000363  ...               57  113021403000000000   \n",
       "827975              0.000298  ...               57  113021209000000000   \n",
       "\n",
       "         Central_Galaxy_ID  Simulation_Halo_ID  Keck_DEIMOS_DEEP_B_Absolute  \\\n",
       "0       467002712000000000          2946268972                     -20.5679   \n",
       "1       467002819000000000          2938917265                     -19.7931   \n",
       "2       467002825000000000          2939169738                     -20.5011   \n",
       "3       467000635000000013          2938917354                     -16.3827   \n",
       "4       467000635000000012          2938917355                     -18.7029   \n",
       "...                    ...                 ...                          ...   \n",
       "827971  113013364000000000          4898720574                     -19.4465   \n",
       "827972  113013786000000000          4903420208                     -20.3681   \n",
       "827973  113013388000000000          4903418589                     -17.7280   \n",
       "827974  113021403000000000          4900979472                     -16.9771   \n",
       "827975  113021209000000000          4898688965                     -15.8380   \n",
       "\n",
       "        Keck_DEIMOS_DEEP_B_Apparent  Keck_DEIMOS_DEEP_R_Absolute  \\\n",
       "0                           24.2341                     -20.8923   \n",
       "1                           24.4250                     -19.9850   \n",
       "2                           23.8641                     -20.6548   \n",
       "3                           30.0040                     -16.9026   \n",
       "4                           25.7607                     -18.9291   \n",
       "...                             ...                          ...   \n",
       "827971                      20.8083                     -20.5662   \n",
       "827972                      19.8176                     -21.3317   \n",
       "827973                      22.3944                     -18.6977   \n",
       "827974                      22.6615                     -17.1878   \n",
       "827975                      24.0527                     -16.3938   \n",
       "\n",
       "        Keck_DEIMOS_DEEP_R_Apparent  Keck_DEIMOS_DEEP_I_Absolute  \\\n",
       "0                           24.0621                     -21.0405   \n",
       "1                           24.5366                     -20.0706   \n",
       "2                           23.9137                     -20.7294   \n",
       "3                           28.9767                     -17.0557   \n",
       "4                           25.7635                     -19.0260   \n",
       "...                             ...                          ...   \n",
       "827971                      18.9887                     -20.9025   \n",
       "827972                      18.2022                     -21.6289   \n",
       "827973                      20.8304                     -18.9934   \n",
       "827974                      22.1179                     -17.2654   \n",
       "827975                      23.0288                     -16.5555   \n",
       "\n",
       "        Keck_DEIMOS_DEEP_I_Apparent  \n",
       "0                           23.6940  \n",
       "1                           24.3189  \n",
       "2                           23.6595  \n",
       "3                           28.1390  \n",
       "4                           25.4666  \n",
       "...                             ...  \n",
       "827971                      18.6181  \n",
       "827972                      17.8772  \n",
       "827973                      20.5002  \n",
       "827974                      22.0293  \n",
       "827975                      22.8272  \n",
       "\n",
       "[827976 rows x 58 columns]"
      ]
     },
     "execution_count": 3,
     "metadata": {},
     "output_type": "execute_result"
    }
   ],
   "source": [
    "#Read in dataset\n",
    "\n",
    "data_0 = pd.read_csv(\"tao_aponte_01_catalogue_3963.csv\")\n",
    "data_0\n",
    "# data_0[('Redshift_Observed')]"
   ]
  },
  {
   "cell_type": "code",
   "execution_count": 4,
   "metadata": {},
   "outputs": [],
   "source": [
    "#Sort dataset by redshift by low to high\n",
    "\n",
    "data = data_0.sort_values('Redshift_Observed')\n",
    "# data[('Redshift_Observed')]"
   ]
  },
  {
   "cell_type": "code",
   "execution_count": 5,
   "metadata": {},
   "outputs": [],
   "source": [
    "#Check that surveyed area is square\n",
    "\n",
    "RA = data['Right_Ascension']\n",
    "DEC = data['Declination']\n",
    "# plt.scatter(RA, DEC)"
   ]
  },
  {
   "cell_type": "markdown",
   "metadata": {},
   "source": [
    "An estiamtion for the SN rate assuming const rate for stellar mass, SN rate assuming const rate per SFR, and TDE rate is provided in the following cells"
   ]
  },
  {
   "cell_type": "code",
   "execution_count": 6,
   "metadata": {},
   "outputs": [],
   "source": [
    "#Estimate supernova rate per stellar mass using arbitrary parameters for now (added the multiplcation for the units - 10^10  solar mass)\n",
    "\n",
    "try:\n",
    "    supernovae_rate_assuming_const_rate_per_stellar_mass = ((((1/100)))*((data['Total_Stellar_Mass'])))*(10**10)/(10**10.5)\n",
    "except:\n",
    "    supernovae_rate_assuming_const_rate_per_stellar_mass = ((((1/100)))*((data['total_stellar_mass'])))*(10**10)/(10**10.5)\n",
    "    \n",
    "#supernovae_rate_per_stellar_mass"
   ]
  },
  {
   "cell_type": "code",
   "execution_count": 7,
   "metadata": {},
   "outputs": [],
   "source": [
    "#Estimate supernova rate per star formation rate using arbitrary parameters for now\n",
    "\n",
    "try:\n",
    "    supernovae_rate_assuming_const_rate_per_star_formation_rate = ((1/100))*(data['Total_Star_Formation_Rate'])\n",
    "except:\n",
    "    supernovae_rate_assuming_const_rate_per_star_formation_rate = ((1/100))*(data['total_star_formation_rate'])\n",
    "    \n",
    "#supernovae_rate_per_star_formation_rate"
   ]
  },
  {
   "cell_type": "code",
   "execution_count": 8,
   "metadata": {},
   "outputs": [],
   "source": [
    "#Estimate TDE rate using arbitrary parameters for now\n",
    "\n",
    "blackholemass = np.array(data['Black_Hole_Mass'])*10**10\n",
    "bh = np.zeros_like(blackholemass)\n",
    "\n",
    "bh[((blackholemass >= 10**6)&(blackholemass <= 10**7))] = 1  \n",
    "        \n",
    "try:\n",
    "    TDE_rate = ((1/10000))*(bh)\n",
    "except:\n",
    "    TDE_rate = ((1/10000))*(bh)\n",
    "    \n",
    "number_of_bh = len(bh[((blackholemass >= 10**6)&(blackholemass <= 10**7))])"
   ]
  },
  {
   "cell_type": "markdown",
   "metadata": {},
   "source": [
    "We insert our new data bac into our original table"
   ]
  },
  {
   "cell_type": "code",
   "execution_count": 9,
   "metadata": {},
   "outputs": [],
   "source": [
    "#Insert rates into tables\n",
    "\n",
    "data.insert(loc=8,\n",
    "          column='supernovae_rate_assuming_const_rate_per_stellar_mass',\n",
    "          value=supernovae_rate_assuming_const_rate_per_stellar_mass)        \n",
    "\n",
    "data.insert(loc=9,\n",
    "          column='supernovae_rate_assuming_const_rate_per_star_formation_rate',\n",
    "          value=supernovae_rate_assuming_const_rate_per_star_formation_rate)   \n",
    "\n",
    "data.insert(loc=10,\n",
    "          column='TDE_rate',\n",
    "          value=TDE_rate)   \n",
    "\n",
    "#data"
   ]
  },
  {
   "cell_type": "markdown",
   "metadata": {},
   "source": [
    "In the following cell we define our bins and the calculation for the bin "
   ]
  },
  {
   "cell_type": "code",
   "execution_count": 10,
   "metadata": {},
   "outputs": [],
   "source": [
    "#Some useful parameters regarding redshift\n",
    "\n",
    "try:\n",
    "    z = data['Redshift_Observed']\n",
    "except:\n",
    "    z = data['redshift_observed']\n",
    "    \n",
    "bins_z = np.linspace(np.min(z), np.max(z), no_of_bins)\n",
    "binsize = (np.max(z) - np.min(z))/no_of_bins\n",
    "digitized_z = np.digitize(z, bins_z) #creates mask for each bin\n",
    "bin_means_z = [z[digitized_z == i].mean() for i in range(0, len(bins_z))]\n",
    "#print(bins_z)\n",
    "#print(np.shape(bins_z))"
   ]
  },
  {
   "cell_type": "markdown",
   "metadata": {},
   "source": [
    "We plot our co moving volume against redshift to double check that our calculation is correct - We are correct!"
   ]
  },
  {
   "cell_type": "code",
   "execution_count": 11,
   "metadata": {},
   "outputs": [
    {
     "data": {
      "text/plain": [
       "Text(0, 0.5, 'Comoving volume [Mpc^3]')"
      ]
     },
     "execution_count": 11,
     "metadata": {},
     "output_type": "execute_result"
    },
    {
     "data": {
      "image/png": "[encoded data removed]",
      "text/plain": [
       "<Figure size 800x800 with 1 Axes>"
      ]
     },
     "metadata": {
      "needs_background": "light"
     },
     "output_type": "display_data"
    }
   ],
   "source": [
    "#Calculate Comoving Volume\n",
    "\n",
    "comoving_volume = WMAP9.comoving_volume(bins_z)  #Give Volume in Mpc^3\n",
    "comoving_volume_unbinned = WMAP9.comoving_volume(z)\n",
    "#print(comoving_volume)\n",
    "plt.figure(figsize=(10, 10), dpi=80)\n",
    "plt.scatter(bins_z, comoving_volume)\n",
    "plt.xlabel('z')\n",
    "plt.ylabel('Comoving volume [Mpc^3]')"
   ]
  },
  {
   "cell_type": "markdown",
   "metadata": {},
   "source": [
    "A cell that has all the required TDE rates (in various units)"
   ]
  },
  {
   "cell_type": "code",
   "execution_count": 12,
   "metadata": {},
   "outputs": [],
   "source": [
    "#TDE rates\n",
    "\n",
    "tde = data['TDE_rate']\n",
    "bin_sum_tde = [tde[digitized_z == i].sum() for i in range(0, len(bins_z))]\n",
    "bin_sum_tde_per_square_degree = np.array(bin_sum_tde)/survey_area\n",
    "bin_sum_tde_all_sky = bin_sum_tde_per_square_degree*41253\n",
    "bin_sum_tde_all_sky_cum = np.cumsum(bin_sum_tde_all_sky)\n",
    "bin_sum_tde_per_vol = bin_sum_tde_all_sky/comoving_volume\n",
    "bin_sum_tde_per_vol_cum = np.cumsum(bin_sum_tde_per_vol)\n",
    "#print(comoving_volume)"
   ]
  },
  {
   "cell_type": "code",
   "execution_count": 13,
   "metadata": {},
   "outputs": [
    {
     "name": "stderr",
     "output_type": "stream",
     "text": [
      "C:\\Users\\steve\\AppData\\Local\\Temp\\ipykernel_7184\\3224843438.py:4: RuntimeWarning: divide by zero encountered in log10\n",
      "  plt.scatter(bin_means_z, np.log10(np.array(np.cumsum(bin_sum_tde_per_square_degree))))\n"
     ]
    },
    {
     "data": {
      "image/png": "[encoded data removed]",
      "text/plain": [
       "<Figure size 800x800 with 1 Axes>"
      ]
     },
     "metadata": {
      "needs_background": "light"
     },
     "output_type": "display_data"
    }
   ],
   "source": [
    "#Cumulative TDE rate per square degree LOG\n",
    "\n",
    "plt.figure(figsize=(10, 10), dpi=80)\n",
    "plt.scatter(bin_means_z, np.log10(np.array(np.cumsum(bin_sum_tde_per_square_degree))))\n",
    "plt.xlabel('Redshift')\n",
    "plt.ylabel('TDE rate [deg^-2]')\n",
    "plt.title('TDE rate vs redshift')\n",
    "\n",
    "plt.show()"
   ]
  },
  {
   "cell_type": "code",
   "execution_count": 14,
   "metadata": {},
   "outputs": [
    {
     "name": "stderr",
     "output_type": "stream",
     "text": [
      "C:\\Users\\steve\\AppData\\Local\\Temp\\ipykernel_7184\\340102095.py:4: RuntimeWarning: divide by zero encountered in log10\n",
      "  plt.scatter(bin_means_z, np.log10(np.array(np.cumsum(bin_sum_tde_all_sky/2))))\n"
     ]
    },
    {
     "data": {
      "image/png": "[encoded data removed]",
      "text/plain": [
       "<Figure size 800x800 with 1 Axes>"
      ]
     },
     "metadata": {
      "needs_background": "light"
     },
     "output_type": "display_data"
    }
   ],
   "source": [
    "#Cumulative TDE rate all sky - 20,000 deg^2 for LSST LOG\n",
    "\n",
    "plt.figure(figsize=(10, 10), dpi=80)\n",
    "plt.scatter(bin_means_z, np.log10(np.array(np.cumsum(bin_sum_tde_all_sky/2))))\n",
    "plt.xlabel('Redshift')\n",
    "plt.ylabel('TDE rate [All Sky - 42153deg^2]')\n",
    "plt.title('TDE rate vs redshift')\n",
    "\n",
    "plt.show()"
   ]
  },
  {
   "cell_type": "code",
   "execution_count": 15,
   "metadata": {},
   "outputs": [],
   "source": [
    "#TDE rate all sky cumulutive\n",
    "\n",
    "# plt.figure(figsize=(10, 10), dpi=80)\n",
    "# plt.scatter(bin_means_z, np.array(bin_sum_tde_all_sky_cum))\n",
    "# plt.xlabel('Redshift')\n",
    "# plt.ylabel('Cumulative TDE rate [All Sky - 42153deg^2]')\n",
    "# plt.title('Cumulative TDE rate vs redshift')\n",
    "\n",
    "# plt.show()"
   ]
  },
  {
   "cell_type": "markdown",
   "metadata": {},
   "source": [
    "The visually important graph for TDE rates which are off by a factor of 10"
   ]
  },
  {
   "cell_type": "code",
   "execution_count": 16,
   "metadata": {},
   "outputs": [],
   "source": [
    "#TDE rate all sky cumulutive as a LOG graph\n",
    "\n",
    "# plt.figure(figsize=(10, 10), dpi=80)\n",
    "# plt.scatter(bin_means_z, np.log10(np.array(bin_sum_tde_all_sky_cum)))\n",
    "# plt.xlabel('Redshift')\n",
    "# plt.ylabel('LOG Cumulative TDE rate [All Sky - 42153deg^2]')\n",
    "# plt.title('LOG Cumulative TDE rate vs redshift')\n",
    "\n",
    "# #plt.show()"
   ]
  },
  {
   "cell_type": "code",
   "execution_count": 17,
   "metadata": {},
   "outputs": [],
   "source": [
    "#TDE rate per Mpc^3\n",
    "\n",
    "# plt.figure(figsize=(10, 10), dpi=80)\n",
    "# plt.scatter(bin_means_z, np.array(bin_sum_tde_per_vol))\n",
    "# plt.xlabel('Redshift')\n",
    "# plt.ylabel('TDE rate [Mpc-3]')\n",
    "# plt.title('TDE rate vs redshift')\n",
    "\n",
    "# plt.show()"
   ]
  },
  {
   "cell_type": "code",
   "execution_count": 18,
   "metadata": {},
   "outputs": [],
   "source": [
    "#TDE rate per Mpc^3 as a LOG graph\n",
    "\n",
    "# bin_sum_tde_per_vol_cum_log = bin_sum_tde_per_vol_cum.value\n",
    "# plt.figure(figsize=(10, 10), dpi=80)\n",
    "# plt.scatter(bin_means_z, np.log10(bin_sum_tde_per_vol.value))\n",
    "# plt.xlabel('Redshift')\n",
    "# plt.ylabel('LOG TDE rate [Mpc-3]')\n",
    "# plt.title('LOG TDE rate vs redshift')\n",
    "\n",
    "# plt.show()"
   ]
  },
  {
   "cell_type": "code",
   "execution_count": 19,
   "metadata": {},
   "outputs": [],
   "source": [
    "#TDE rate per Mpc^3 cumulative\n",
    "\n",
    "# plt.figure(figsize=(10, 10), dpi=80)\n",
    "# plt.scatter(bin_means_z, np.array(bin_sum_tde_per_vol_cum))\n",
    "# plt.xlabel('Redshift')\n",
    "# plt.ylabel('Cumulative TDE rate [Mpc-3]')\n",
    "# plt.title('Cumulative TDE rate vs redshift')\n",
    "\n",
    "# plt.show()"
   ]
  },
  {
   "cell_type": "code",
   "execution_count": 20,
   "metadata": {},
   "outputs": [
    {
     "name": "stderr",
     "output_type": "stream",
     "text": [
      "C:\\Users\\steve\\AppData\\Local\\Temp\\ipykernel_7184\\3312074129.py:4: RuntimeWarning: divide by zero encountered in log\n",
      "  bin_sum_tde_per_vol_cum_log = [np.log(x) for x in bin_sum_tde_per_vol_cum.value]\n",
      "C:\\Users\\steve\\AppData\\Local\\Temp\\ipykernel_7184\\3312074129.py:6: RuntimeWarning: divide by zero encountered in log10\n",
      "  bin_sum_tde_per_vol_cum_log = np.log10(bin_sum_tde_per_vol_cum.value)\n"
     ]
    },
    {
     "data": {
      "image/png": "[encoded data removed]",
      "text/plain": [
       "<Figure size 800x800 with 1 Axes>"
      ]
     },
     "metadata": {
      "needs_background": "light"
     },
     "output_type": "display_data"
    }
   ],
   "source": [
    "#TDE rate per Mpc^3 cumulative as a LOG graph\n",
    "fontsize = 20\n",
    "#print(bin_sum_tde_per_vol_cum)\n",
    "bin_sum_tde_per_vol_cum_log = [np.log(x) for x in bin_sum_tde_per_vol_cum.value]\n",
    "bin_means_z_log = [np.log(x) for x in bin_means_z]\n",
    "bin_sum_tde_per_vol_cum_log = np.log10(bin_sum_tde_per_vol_cum.value)\n",
    "plt.figure(figsize=(10, 10), dpi=80)\n",
    "plt.scatter(bin_means_z, bin_sum_tde_per_vol_cum_log)\n",
    "plt.xlabel('Redshift', fontdict={'fontsize': fontsize})\n",
    "plt.ylabel('LOG Cumulative TDE rate Mpc$^{-3}$yr$^{-1}$]', fontdict={'fontsize': fontsize})\n",
    "plt.title('LOG Cumulative TDE rate vs redshift',fontdict={'fontsize': fontsize})\n",
    "\n",
    "plt.show()"
   ]
  },
  {
   "cell_type": "code",
   "execution_count": 21,
   "metadata": {},
   "outputs": [],
   "source": [
    "Luminosity = data['Keck_DEIMOS_DEEP_B_Absolute']\n",
    "# print(Luminosity)"
   ]
  },
  {
   "cell_type": "code",
   "execution_count": 22,
   "metadata": {},
   "outputs": [],
   "source": [
    "bin_Lum = [Luminosity[digitized_z == i].sum() for i in range(0, len(bins_z))]\n",
    "# print(bin_Lum)\n",
    "# plt.figure(figsize=(10, 10), dpi=80)\n",
    "# plt.scatter(bin_means_z, np.array(bin_Lum))\n",
    "# plt.xlabel('Redshift')\n",
    "# plt.ylabel('Luminosity')\n",
    "# plt.title('Luminosity vs redshift')"
   ]
  },
  {
   "cell_type": "markdown",
   "metadata": {},
   "source": [
    "The code to create SN rates assuming const rate per sm"
   ]
  },
  {
   "cell_type": "code",
   "execution_count": 23,
   "metadata": {},
   "outputs": [],
   "source": [
    "#Supernova rates assuming const per stellar mass\n",
    "h = 0.7\n",
    "sm = data['supernovae_rate_assuming_const_rate_per_stellar_mass'] \n",
    "bin_sum_sm = [sm[digitized_z == i].sum() for i in range(0, len(bins_z))]\n",
    "bin_sum_sm_per_square_degree = np.array(bin_sum_sm)/survey_area\n",
    "bin_sum_sm_all_sky = bin_sum_sm_per_square_degree*41253\n",
    "bin_sum_sm_all_sky_cum = np.cumsum(bin_sum_sm_all_sky)\n",
    "bin_sum_sm_per_vol = bin_sum_sm_all_sky/comoving_volume\n",
    "bin_sum_sm_per_vol_cum = np.cumsum(bin_sum_sm_per_vol)"
   ]
  },
  {
   "cell_type": "code",
   "execution_count": 24,
   "metadata": {},
   "outputs": [],
   "source": [
    "#Supernova rate assuming constant rate per stellar mass per square degree\n",
    "\n",
    "# plt.figure(figsize=(10, 10), dpi=80)\n",
    "# plt.scatter(bin_means_z, np.array(bin_sum_sm_per_square_degree))\n",
    "# plt.xlabel('Redshift')\n",
    "# plt.ylabel('Supernova rate [deg^-2]')\n",
    "# plt.title('Supernova rate assuming const rate per stellar mass vs redshift')\n",
    "\n",
    "#plt.show()"
   ]
  },
  {
   "cell_type": "code",
   "execution_count": 25,
   "metadata": {},
   "outputs": [],
   "source": [
    "#Supernova rate assuming const rate per stellar mass all sky\n",
    "\n",
    "# plt.figure(figsize=(10, 10), dpi=80)\n",
    "# plt.scatter(bin_means_z, np.array(bin_sum_sm_all_sky))\n",
    "# plt.xlabel('Redshift')\n",
    "# plt.ylabel('Supernova rate [All sky - 41253deg2]')\n",
    "# plt.title('Supernova rate assuming const rate per stellar mass vs redshift')\n",
    "\n",
    "#plt.show()"
   ]
  },
  {
   "cell_type": "code",
   "execution_count": 26,
   "metadata": {},
   "outputs": [],
   "source": [
    "#Supernova rate assuming const rate per stellar mass all sky as a LOG GRAPH\n",
    "\n",
    "# plt.figure(figsize=(10, 10), dpi=80)\n",
    "# plt.scatter(bin_means_z,np.log10(np.array(bin_sum_sm_all_sky)))\n",
    "# plt.xlabel('Redshift')\n",
    "# plt.ylabel('Supernova rate [All sky - 41253deg2]')\n",
    "# plt.title('Supernova rate assuming const rate per stellar mass vs redshift')\n",
    "\n",
    "#plt.show()"
   ]
  },
  {
   "cell_type": "code",
   "execution_count": 27,
   "metadata": {},
   "outputs": [],
   "source": [
    "#Cumulutive Supernova rate assuming const rate per stellar mass all sky\n",
    "\n",
    "# plt.figure(figsize=(10, 10), dpi=80)\n",
    "# plt.scatter(bin_means_z, (np.array(bin_sum_sm_all_sky_cum)))\n",
    "# plt.xlabel('Redshift')\n",
    "# plt.ylabel('Cumulative Supernova rate [All sky - 41253deg2]')\n",
    "# plt.title('Cumulative Supernova assuming const rate rate per stellar mass vs redshift')\n",
    "\n",
    "#plt.show()"
   ]
  },
  {
   "cell_type": "code",
   "execution_count": 28,
   "metadata": {},
   "outputs": [],
   "source": [
    "#Cumulutive Supernova rate assuming const rate per stellar mass all sky as a LOG GRAPPH\n",
    "# bin_sum_sm_all_sky_cum_log = [np.log10(x) for x in bin_sum_sm_all_sky_cum]\n",
    "# plt.figure(figsize=(10, 10), dpi=80)\n",
    "# plt.scatter(bin_means_z, bin_sum_sm_all_sky_cum_log)\n",
    "# plt.xlabel('Redshift')\n",
    "# plt.ylabel('Cumulative Supernova rate [All sky - 41253deg2]')\n",
    "# plt.title('Cumulative Supernova rate assuming const rate per stellar mass vs redshift')\n",
    "\n",
    "#plt.show()"
   ]
  },
  {
   "cell_type": "code",
   "execution_count": 29,
   "metadata": {},
   "outputs": [],
   "source": [
    "#Supernova rate assuming const rate per stellar mass per Mpc^3\n",
    "\n",
    "# plt.figure(figsize=(10, 10), dpi=80)\n",
    "# plt.scatter(bin_means_z, np.array(bin_sum_sm_per_vol))\n",
    "# plt.xlabel('Redshift')\n",
    "# plt.ylabel('Supernova rate [Mpc^-3]')\n",
    "# plt.title('Supernova rate assuming const rate per stellar mass vs redshift')\n",
    "\n",
    "plt.show()"
   ]
  },
  {
   "cell_type": "code",
   "execution_count": 30,
   "metadata": {},
   "outputs": [
    {
     "name": "stderr",
     "output_type": "stream",
     "text": [
      "C:\\Users\\steve\\AppData\\Local\\Temp\\ipykernel_7184\\4013465423.py:4: RuntimeWarning: divide by zero encountered in log10\n",
      "  plt.scatter(bin_means_z, np.log10(np.array(bin_sum_sm_per_vol_cum)))\n"
     ]
    },
    {
     "data": {
      "image/png": "[encoded data removed]",
      "text/plain": [
       "<Figure size 800x800 with 1 Axes>"
      ]
     },
     "metadata": {
      "needs_background": "light"
     },
     "output_type": "display_data"
    },
    {
     "name": "stderr",
     "output_type": "stream",
     "text": [
      "C:\\Users\\steve\\AppData\\Local\\Temp\\ipykernel_7184\\4013465423.py:11: RuntimeWarning: divide by zero encountered in log10\n",
      "  np.interp(0.62, bin_means_z,  np.log10(np.array(bin_sum_sm_per_vol_cum)))\n"
     ]
    },
    {
     "data": {
      "text/plain": [
       "-3.1809746320906425"
      ]
     },
     "execution_count": 30,
     "metadata": {},
     "output_type": "execute_result"
    }
   ],
   "source": [
    "#Cumulutive Supernova rate assuming const rate per stellar mass per Mpc^3\n",
    "fontsize = 20\n",
    "plt.figure(figsize=(10, 10), dpi=80)\n",
    "plt.scatter(bin_means_z, np.log10(np.array(bin_sum_sm_per_vol_cum)))\n",
    "plt.xlabel('Redshift', fontdict={'fontsize': fontsize})\n",
    "plt.ylabel('LOG Cumulative Supernova rate [Mpc$^{-3}$]', fontdict={'fontsize': fontsize})\n",
    "plt.title('LOG Cumulative Supernova rate  vs redshift', fontdict={'fontsize': fontsize})\n",
    "plt.axvline(x =0.62, ymin = 0, ymax = 0.92)\n",
    "plt.axhline(y = -3.1809746320906425, xmin = 0.0, xmax = 0.5)\n",
    "plt.show()\n",
    "np.interp(0.62, bin_means_z,  np.log10(np.array(bin_sum_sm_per_vol_cum)))\n"
   ]
  },
  {
   "cell_type": "markdown",
   "metadata": {},
   "source": [
    "Code to create SN rates assuming const rate per SFR"
   ]
  },
  {
   "cell_type": "code",
   "execution_count": 31,
   "metadata": {},
   "outputs": [],
   "source": [
    "#Supernova rates assuming const rate per star formation rate\n",
    "\n",
    "sfr = data['supernovae_rate_assuming_const_rate_per_star_formation_rate']\n",
    "bin_sum_sfr = [sfr[digitized_z == i].sum() for i in range(0, len(bins_z))]\n",
    "bin_sum_sfr_per_square_degree = np.array(bin_sum_sfr)/survey_area\n",
    "bin_sum_sfr_all_sky = bin_sum_sfr_per_square_degree*41253\n",
    "bin_sum_sfr_all_sky_cum = np.cumsum(bin_sum_sfr_all_sky)\n",
    "bin_sum_sfr_per_vol = bin_sum_sfr_all_sky/comoving_volume\n",
    "bin_sum_sfr_per_vol_cum = np.cumsum(bin_sum_sfr_per_vol)"
   ]
  },
  {
   "cell_type": "code",
   "execution_count": 32,
   "metadata": {},
   "outputs": [],
   "source": [
    "#Supernova rates assuming const rate per star formation rate per square degree\n",
    "\n",
    "# plt.figure(figsize=(10, 10), dpi=80)\n",
    "# plt.scatter(bin_means_z, np.array(bin_sum_sfr_per_square_degree))\n",
    "# plt.xlabel('Redshift')\n",
    "# plt.ylabel('Supernova rate [deg^-2]')\n",
    "# plt.title('Supernova rate assuming const rate per star formation rate vs redshift')\n",
    "\n",
    "#plt.show()"
   ]
  },
  {
   "cell_type": "code",
   "execution_count": 33,
   "metadata": {},
   "outputs": [],
   "source": [
    "#Supernova rates assuming const rate per star formation rate all sky\n",
    "\n",
    "# plt.figure(figsize=(10, 10), dpi=80)\n",
    "# plt.scatter(bin_means_z, np.array(bin_sum_sfr_all_sky))\n",
    "# plt.xlabel('Redshift')\n",
    "# plt.ylabel('Supernova rate [All sky - 41253deg2]')\n",
    "# plt.title('Supernova rate assuming const rate per star formation rate vs redshift')\n",
    "\n",
    "#plt.show()"
   ]
  },
  {
   "cell_type": "code",
   "execution_count": 34,
   "metadata": {},
   "outputs": [],
   "source": [
    "#Cumulutive Supernova rates assuming const rate per star formation rate all sky\n",
    "\n",
    "# plt.figure(figsize=(10, 10), dpi=80)\n",
    "# plt.scatter(bin_means_z, np.array(bin_sum_sfr_all_sky_cum))\n",
    "# plt.xlabel('Redshift')\n",
    "# plt.ylabel('Cumulative Supernova rate [All sky - 41253deg2]')\n",
    "# plt.title('Cumulative Supernova assuming const rate rate per star formation rate vs redshift')\n",
    "\n",
    "#plt.show()"
   ]
  },
  {
   "cell_type": "code",
   "execution_count": 35,
   "metadata": {},
   "outputs": [],
   "source": [
    "#Cumulutive Supernova rates assuming const rate per star formation rate all sky as a LOG GRAPH\n",
    "\n",
    "# plt.figure(figsize=(10, 10), dpi=80)\n",
    "# plt.scatter(bin_means_z, np.log10(np.array(bin_sum_sfr_all_sky_cum)))\n",
    "# plt.xlabel('Redshift')\n",
    "# plt.ylabel('LOG Cumulative Supernova rate [All sky - 41253deg2]')\n",
    "# plt.title('LOG Cumulative Supernova rate assuming const rate per star formation rate vs redshift')\n",
    "\n",
    "#plt.show()"
   ]
  },
  {
   "cell_type": "code",
   "execution_count": 36,
   "metadata": {},
   "outputs": [],
   "source": [
    "#Supernova rates assuming const rate per star formation rate per Mpc^3\n",
    "\n",
    "# plt.figure(figsize=(10, 10), dpi=80)\n",
    "# plt.scatter(bin_means_z, np.log10(np.array(bin_sum_sfr_per_vol)))\n",
    "# plt.xlabel('Redshift')\n",
    "# plt.ylabel('Supernova rate [Mpc^-3]')\n",
    "# plt.title('Supernova rate assuming const rate per star formation rate vs redshift')\n",
    "\n",
    "# plt.show()"
   ]
  },
  {
   "cell_type": "code",
   "execution_count": 37,
   "metadata": {},
   "outputs": [],
   "source": [
    "#Cumulutive Supernova rates assuming const rate per star formation rate per Mpc^3\n",
    "\n",
    "# plt.figure(figsize=(10, 10), dpi=80)\n",
    "# plt.scatter(bin_means_z, np.array(bin_sum_sfr_per_vol_cum))\n",
    "# plt.xlabel('Redshift')\n",
    "# plt.ylabel('Cumulative Supernova rate [Mpc^-3]')\n",
    "# plt.title('Cumulative Supernova rate assuming const rate per star formation rate vs redshift')\n",
    "\n",
    "plt.show()"
   ]
  },
  {
   "cell_type": "code",
   "execution_count": 38,
   "metadata": {},
   "outputs": [
    {
     "name": "stderr",
     "output_type": "stream",
     "text": [
      "C:\\Users\\steve\\AppData\\Local\\Temp\\ipykernel_7184\\4231373826.py:5: RuntimeWarning: divide by zero encountered in log10\n",
      "  plt.scatter(bin_means_z, np.log10(np.array(bin_sum_sfr_per_vol_cum)))\n"
     ]
    },
    {
     "data": {
      "image/png": "[encoded data removed]",
      "text/plain": [
       "<Figure size 800x800 with 1 Axes>"
      ]
     },
     "metadata": {
      "needs_background": "light"
     },
     "output_type": "display_data"
    }
   ],
   "source": [
    "#Cumulutive Supernova rates assuming const rate per star formation rate per Mpc^3 as a LOG GRAPH\n",
    "\n",
    "fontsize = 20\n",
    "plt.figure(figsize=(10, 10), dpi=80)\n",
    "plt.scatter(bin_means_z, np.log10(np.array(bin_sum_sfr_per_vol_cum)))\n",
    "plt.xlabel('Redshift', fontdict={'fontsize': fontsize})\n",
    "plt.ylabel('LOG Cumulative Supernova rate [Mpc$^{-3}$yr$^{-1}$]', fontdict={'fontsize': fontsize})\n",
    "plt.title('LOG Cumulative Supernova rate  vs redshift', fontdict={'fontsize': fontsize})\n",
    "\n",
    "plt.show()"
   ]
  },
  {
   "cell_type": "markdown",
   "metadata": {},
   "source": [
    "Code to create Stellar Mass Function plots for Millenium at Z=0, Z=0.1, and Z=1"
   ]
  },
  {
   "cell_type": "code",
   "execution_count": 39,
   "metadata": {},
   "outputs": [],
   "source": [
    "h = 0.73"
   ]
  },
  {
   "cell_type": "markdown",
   "metadata": {},
   "source": [
    "This first graph needs to be corrected for feedback etc"
   ]
  },
  {
   "cell_type": "code",
   "execution_count": 40,
   "metadata": {},
   "outputs": [
    {
     "data": {
      "text/plain": [
       "[<matplotlib.lines.Line2D at 0x25062dfd100>]"
      ]
     },
     "execution_count": 40,
     "metadata": {},
     "output_type": "execute_result"
    },
    {
     "data": {
      "image/png": "[encoded data removed]",
      "text/plain": [
       "<Figure size 800x800 with 1 Axes>"
      ]
     },
     "metadata": {
      "needs_background": "light"
     },
     "output_type": "display_data"
    }
   ],
   "source": [
    "import numpy as np\n",
    "import matplotlib.pyplot as plt\n",
    "fontsize = 20\n",
    "Co_Vol_at_z1 = np.interp(0.000000000001,bins_z,comoving_volume)\n",
    "\n",
    "M     = data_0['Total_Stellar_Mass']*10**10         #Read stellar masses in Msun\n",
    "#total_sm = [M[digitized_z == i].sum() for i in range(1, len(bins_z))]\n",
    "#sm = M[1:30]\n",
    "#print(sm)\n",
    "#print(total_sm)\n",
    "logM  = np.log10(M)                     #Take logarithm\n",
    "nbins = 100                              #Number of bins to divide data into\n",
    "V     = Co_Vol_at_z1                           #Survey volume in Mpc3\n",
    "Phi,edg = np.histogram(logM,bins=nbins) #Unnormalized histogram and bin edges\n",
    "dM    = edg[1] - edg[0]  #Bin size\n",
    "Max   = edg[0:-1] + dM/2.               #Mass axis\n",
    "Phi   = Phi / V / dM                    #Normalize to volume and bin size\n",
    "plt.figure(figsize=(10, 10), dpi=80)\n",
    "plt.clf()\n",
    "plt.yscale('log')\n",
    "plt.xlabel(r'$\\log(M_\\star\\,/\\,M_\\odot)$', fontdict={'fontsize': fontsize})\n",
    "plt.ylabel(r'$\\Phi\\,/\\,\\mathrm{dex}^{-1}\\,\\mathrm{Mpc}^{-3}$', fontdict={'fontsize': fontsize})\n",
    "plt.title(r'Stellar mass functon of Millenium at a Redhift of 0', fontdict={'fontsize': fontsize})\n",
    "plt.plot(Max,Phi,'rx')"
   ]
  },
  {
   "cell_type": "code",
   "execution_count": 41,
   "metadata": {},
   "outputs": [],
   "source": [
    "# import numpy as np\n",
    "# import matplotlib.pyplot as plt\n",
    "\n",
    "# Co_Vol_at_z2 = np.interp(0.0000000000000001,bins_z,comoving_volume)\n",
    "# M= data_0['Total_Stellar_Mass']*10**10   #Read stellar masses in Msun\n",
    "# logM  = np.log10(M)                     #Take logarithm\n",
    "# nbins = 100                              #Number of bins to divide data into\n",
    "# V     = Co_Vol_at_z2                            #Survey volume in Mpc3\n",
    "# Phi,edg = np.histogram(logM,bins=nbins) #Unnormalized histogram and bin edges\n",
    "# dM    = edg[1] - edg[0]                 #Bin size\n",
    "# Max   = edg[0:-1] + dM/2.               #Mass axis\n",
    "# Phi   = Phi / V / dM                    #Normalize to volume and bin size\n",
    "# plt.figure(figsize=(10, 10), dpi=80)\n",
    "# plt.clf()\n",
    "# plt.yscale('log')\n",
    "# plt.xlabel(r'$\\log(M_\\star\\,/\\,M_\\odot)$')\n",
    "# plt.ylabel(r'$\\Phi\\,/\\,\\mathrm{dex}^{-1}\\,\\mathrm{Mpc}^{-3}$')\n",
    "# plt.plot(Max,Phi,ls='dashed')\n",
    "# print(edg[1])"
   ]
  },
  {
   "cell_type": "code",
   "execution_count": 42,
   "metadata": {},
   "outputs": [],
   "source": [
    "# Co_Vol_at_z3 = np.interp(1,bins_z,comoving_volume)\n",
    "\n",
    "# M     = data_0['Total_Stellar_Mass']*10**10         #Read stellar masses in Msun\n",
    "# logM  = np.log10(M)                     #Take logarithm\n",
    "# nbins = 100                              #Number of bins to divide data into\n",
    "# V     = Co_Vol_at_z3                           #Survey volume in Mpc3\n",
    "# Phi,edg = np.histogram(logM,bins=nbins) #Unnormalized histogram and bin edges\n",
    "# dM    = edg[1] - edg[0]                 #Bin size\n",
    "# Max   = edg[0:-1] + dM/2.               #Mass axis\n",
    "# Phi   = Phi / V / dM                    #Normalize to volume and bin size\n",
    "# plt.figure(figsize=(10, 10), dpi=80)\n",
    "# plt.clf()\n",
    "# plt.yscale('log')\n",
    "# plt.xlabel(r'$\\log(M_\\star\\,/\\,M_\\odot)$')\n",
    "# plt.ylabel(r'$\\Phi\\,/\\,\\mathrm{dex}^{-1}\\,\\mathrm{Mpc}^{-3}$')\n",
    "# plt.plot(Max,Phi,ls='dashed')"
   ]
  },
  {
   "cell_type": "markdown",
   "metadata": {},
   "source": [
    "Attemp to plot of SFR density against Redshift"
   ]
  },
  {
   "cell_type": "code",
   "execution_count": 43,
   "metadata": {},
   "outputs": [],
   "source": [
    "TOTAL_SFR_RATE = data_0['Total_Star_Formation_Rate']\n",
    "bin_sum_totalsfr = [TOTAL_SFR_RATE[digitized_z == i].sum() for i in range(0, len(bins_z))]\n",
    "bin_sum_totalsfr_per_square_degree = np.array(bin_sum_sfr)/survey_area\n",
    "bin_sum_totalsfr_all_sky = bin_sum_totalsfr_per_square_degree*41253\n",
    "bin_sum_totalsfr_all_sky_cum = np.cumsum(bin_sum_totalsfr_all_sky)\n",
    "bin_sum_totalsfr_per_vol = bin_sum_totalsfr_all_sky/comoving_volume\n",
    "bin_sum_totalsfr_per_vol_cum = np.cumsum(bin_sum_totalsfr_per_vol)"
   ]
  },
  {
   "cell_type": "code",
   "execution_count": 44,
   "metadata": {},
   "outputs": [],
   "source": [
    "#print(bin_sum_totalsfr_per_vol)"
   ]
  },
  {
   "cell_type": "markdown",
   "metadata": {},
   "source": [
    "This plot's vertical axis should be centred around -2 - our graph is shifted vertically lower - why?"
   ]
  },
  {
   "cell_type": "code",
   "execution_count": 45,
   "metadata": {},
   "outputs": [],
   "source": [
    "#Plotting SFR against Z\n",
    "# plt.figure(figsize=(10, 10), dpi=80)\n",
    "# plt.scatter(bin_means_z, np.log10(bin_sum_totalsfr_per_vol_cum.value))\n",
    "# plt.xlabel('')\n",
    "# plt.ylabel('')\n",
    "# plt.title('')\n",
    "\n",
    "# plt.show()"
   ]
  },
  {
   "cell_type": "markdown",
   "metadata": {},
   "source": [
    "Improving our TDE Rate Equation "
   ]
  },
  {
   "cell_type": "markdown",
   "metadata": {},
   "source": [
    "In the following cell i will use Van Velzen (2018) method of summing the 1/Vmax in bins of luminosity in order to find a luminosity function of TDE's.\n",
    "We have to use the flux limit of the survey."
   ]
  },
  {
   "cell_type": "code",
   "execution_count": 46,
   "metadata": {},
   "outputs": [
    {
     "name": "stdout",
     "output_type": "stream",
     "text": [
      "160095   -14.7625\n",
      "217670   -16.8128\n",
      "217671   -15.7348\n",
      "217668   -16.3496\n",
      "217674   -20.9465\n",
      "           ...   \n",
      "482401   -17.2887\n",
      "382182   -21.6527\n",
      "577975   -17.2813\n",
      "578036   -17.3050\n",
      "578008   -18.9706\n",
      "Name: Keck_DEIMOS_DEEP_B_Absolute, Length: 827976, dtype: float64\n"
     ]
    }
   ],
   "source": [
    "lum = data_0['Keck_DEIMOS_DEEP_B_Apparent']\n",
    "print(Luminosity)"
   ]
  },
  {
   "cell_type": "code",
   "execution_count": 47,
   "metadata": {},
   "outputs": [],
   "source": [
    "# plt.figure(figsize=(10, 10), dpi=80)\n",
    "# plt.scatter(z, lum)\n",
    "# plt.xlabel('')\n",
    "# plt.ylabel('')\n",
    "# plt.title('')\n",
    "# plt.xlim([0, 0.1])\n",
    "# plt.ylim([15, 25])"
   ]
  },
  {
   "cell_type": "code",
   "execution_count": 48,
   "metadata": {},
   "outputs": [],
   "source": [
    "bins_lum = np.linspace(np.min(lum), np.max(lum), no_of_bins)\n",
    "binsize = (np.max(lum) - np.min(lum))/no_of_bins\n",
    "digitized_lum = np.digitize(lum, bins_lum) #creates mask for each bin\n",
    "bin_means_lum = [lum[digitized_lum == i].mean() for i in range(0, len(bins_lum))]"
   ]
  },
  {
   "cell_type": "code",
   "execution_count": 49,
   "metadata": {},
   "outputs": [
    {
     "name": "stdout",
     "output_type": "stream",
     "text": [
      "100\n"
     ]
    }
   ],
   "source": [
    "print(len(bin_means_lum)) #want len of Vmax to match this so "
   ]
  },
  {
   "cell_type": "code",
   "execution_count": 50,
   "metadata": {},
   "outputs": [
    {
     "name": "stdout",
     "output_type": "stream",
     "text": [
      "160095    8.492332e+14\n",
      "217670    2.886854e+13\n",
      "217671    1.949476e+14\n",
      "217668    3.545119e+14\n",
      "217674    2.485752e+14\n",
      "              ...     \n",
      "482401    1.152620e+15\n",
      "382182    1.735774e+14\n",
      "577975    1.457938e+15\n",
      "578036    1.456559e+15\n",
      "578008    1.438110e+15\n",
      "Length: 827976, dtype: float64\n"
     ]
    }
   ],
   "source": [
    "A = RA * DEC\n",
    "zmax = 0.1\n",
    "VZmax = np.interp(1, bin_means_z, comoving_volume)\n",
    "Tau = 60*60 ## What is the correct value for survey time?\n",
    "\n",
    "\n",
    "\n",
    "Vmax = VZmax * A * Tau\n",
    "print(Vmax)"
   ]
  },
  {
   "cell_type": "code",
   "execution_count": 51,
   "metadata": {},
   "outputs": [],
   "source": [
    "bin_sum_Vmax = [lum[digitized_lum == i].sum() for i in range(0, len(bins_lum))]\n",
    "#print(bin_sum_Vmax)\n",
    "yy = bin_sum_Vmax[1:]\n",
    "#print(xx)\n",
    "yyy = bin_sum_Vmax[1:30]\n",
    "#print(xxx)\n",
    "xxx = bin_means_lum[1:30]\n",
    "#print(xxx)\n",
    "Lum_bin = [i*4*10**26 for i in xxx]\n",
    "# bin_sum_Vmax.sort()\n",
    "#print(yyy)\n",
    "# for num in xxx:\n",
    "#     y = 1/num\n",
    "#     print(y)"
   ]
  },
  {
   "cell_type": "code",
   "execution_count": 52,
   "metadata": {},
   "outputs": [],
   "source": [
    "# plt.figure(figsize=(10, 10), dpi=80)\n",
    "# plt.scatter(Lum_bin, yyy)\n",
    "# plt.xlabel('Lum')\n",
    "# plt.ylabel('1/Vmax')\n",
    "# plt.title('')\n",
    "\n",
    "# plt.show()"
   ]
  },
  {
   "cell_type": "markdown",
   "metadata": {},
   "source": [
    "Following graph is 1/Vmax against bins of Lum"
   ]
  },
  {
   "cell_type": "code",
   "execution_count": 53,
   "metadata": {},
   "outputs": [],
   "source": [
    "y = [1 / y for y in yyy]"
   ]
  },
  {
   "cell_type": "code",
   "execution_count": 54,
   "metadata": {},
   "outputs": [],
   "source": [
    "# plt.figure(figsize=(10, 10), dpi=80)\n",
    "# plt.scatter(Lum_bin, y)\n",
    "# plt.xlabel('Lum')\n",
    "# plt.ylabel('1/Vmax')\n",
    "# plt.title('')\n",
    "\n",
    "# plt.show()"
   ]
  },
  {
   "cell_type": "code",
   "execution_count": 55,
   "metadata": {},
   "outputs": [],
   "source": [
    "#Summed all of the Lums\n",
    "\n",
    "# bin_sum_Vmax = [lum[digitized_lum == i].sum() for i in range(0, len(bins_lum))]\n",
    "# #print(bin_sum_Vmax)\n",
    "# bin_sum_Vmax.sort()\n",
    "# plt.figure(figsize=(10, 10), dpi=80)\n",
    "# plt.scatter(bin_means_lum, bin_sum_Vmax)\n",
    "# plt.xlabel('')\n",
    "# plt.ylabel('')\n",
    "# plt.title('')\n",
    "\n",
    "# plt.show()"
   ]
  },
  {
   "cell_type": "markdown",
   "metadata": {},
   "source": [
    "From here, we want to plot Van Velzen(2018) method and find the well fitted power law/estimation which should give us our corrected value of 10^-4 instead of our modelled value of 10^-5"
   ]
  },
  {
   "cell_type": "code",
   "execution_count": 56,
   "metadata": {},
   "outputs": [],
   "source": [
    "# # l = Lum **1*10**24\n",
    "# for i in Lum:\n",
    "#     x1 = i*1*10**24\n",
    "#     print(x1)\n",
    "# l = [ i*1*10**24 for i in Lum]\n",
    "# print(l)"
   ]
  },
  {
   "cell_type": "code",
   "execution_count": 57,
   "metadata": {},
   "outputs": [
    {
     "name": "stdout",
     "output_type": "stream",
     "text": [
      "[1.1872012077729327e-104, 1.0144112138380703e-104, 9.325487309649668e-105, 8.536846142171111e-105, 7.873838931295802e-105, 7.306958765517573e-105, 6.793665959022192e-105, 6.3371000929258805e-105, 5.925981381572787e-105, 5.5609331695015315e-105, 5.234018083890932e-105, 4.9431471194790515e-105, 4.67687882471073e-105, 4.432311600763419e-105, 4.207119615237172e-105, 4.003009042867792e-105, 3.8150285071738566e-105, 3.636072240922594e-105, 3.4692173336229265e-105, 3.3203901400703645e-105, 3.186616012577225e-105, 3.0691115458128138e-105, 2.936548752278416e-105, 2.814244863809685e-105, 2.710794296800411e-105, 2.6056315338347423e-105, 2.5163235257784146e-105, 2.444524394864152e-105, 2.3371204162068374e-105]\n"
     ]
    }
   ],
   "source": [
    "#For help y = [1 / y for y in yyy]\n",
    "#print(l)\n",
    "Tde = [2*10**-7*(p/1*10**37)**(-1.5) for p in Lum_bin]\n",
    "#tde = np.array(Tde)\n",
    "#print(tde)\n",
    "#print(Tde)\n",
    "denominator = [np.log10(x) for x in Lum_bin]  \n",
    "#ll = np.array(l)\n",
    "#lll = l*1*10**26 ##### Want to divide Tde by denominator but cant because need to iterator through denminator to log every value inside \n",
    "#print(lll)\n",
    "#print(denominator)\n",
    "#d = np.array(denominator)\n",
    "#print(np.log10(l[0])) # matches first log value so works \n",
    "# for j in denominator:\n",
    "#     print(j)\n",
    "# for j in Tde:\n",
    "#     print(j)\n",
    "n = [i / np.log10(j) for i, j in zip(Tde, denominator)]\n",
    "print(n)\n",
    "#type(denominator)\n",
    "#type(Tde)\n",
    "#x = [i/denominator for i in Tde]\n",
    "    #print(x)\n",
    "#     Lum_bin = [lum[digitized_lum == i].sum() for i in range(0, len(bins_z))]\n",
    "#     print(Lum_bin)"
   ]
  },
  {
   "cell_type": "markdown",
   "metadata": {},
   "source": [
    "Attempt to plot their log fit function onto my graph to see if they match"
   ]
  },
  {
   "cell_type": "code",
   "execution_count": 58,
   "metadata": {},
   "outputs": [],
   "source": [
    "# plt.figure(figsize=(10, 10), dpi=80)\n",
    "# n_bin = [lum[digitized_lum == i].sum() for i in range(0, len(bins_lum))]\n",
    "# #print(x)\n",
    "# print(tde)\n",
    "# #plt.scatter(Lum_bin, y)\n",
    "# plt.scatter(Lum_bin, n)\n",
    "# plt.xlabel('Lum bin')\n",
    "# plt.ylabel('TDE')\n",
    "# plt.title('')\n",
    "\n",
    "# plt.show()"
   ]
  },
  {
   "cell_type": "code",
   "execution_count": null,
   "metadata": {},
   "outputs": [],
   "source": []
  },
  {
   "cell_type": "code",
   "execution_count": null,
   "metadata": {},
   "outputs": [],
   "source": []
  },
  {
   "cell_type": "code",
   "execution_count": null,
   "metadata": {},
   "outputs": [],
   "source": []
  }
 ],
 "metadata": {
  "kernelspec": {
   "display_name": "Python 3 (ipykernel)",
   "language": "python",
   "name": "python3"
  },
  "language_info": {
   "codemirror_mode": {
    "name": "ipython",
    "version": 3
   },
   "file_extension": ".py",
   "mimetype": "text/x-python",
   "name": "python",
   "nbconvert_exporter": "python",
   "pygments_lexer": "ipython3",
   "version": "3.9.12"
  },
  "vscode": {
   "interpreter": {
    "hash": "70f3c9c5f530effdc6a80dbad78b3cafea2afa458216aedd385384b265543c30"
   }
  }
 },
 "nbformat": 4,
 "nbformat_minor": 4
}
